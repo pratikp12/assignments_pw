{
 "cells": [
  {
   "cell_type": "markdown",
   "id": "555fcca7-0660-493e-bcab-59c2d91244e7",
   "metadata": {},
   "source": [
    "<pre>\n",
    "Q1. What is Statistics?\n",
    "As per wikipedia , Statistics is the discipline that concerns the collection, organization, analysis, interpretation, and presentation of data. In applying statistics to a scientific, industrial, or social problem, it is conventional to begin with a statistical population or a statistical model to be studied.\n",
    "</pre>"
   ]
  },
  {
   "cell_type": "markdown",
   "id": "ab7ebd0c-93b5-45d1-932e-b6098235478a",
   "metadata": {},
   "source": [
    "<pre>\n",
    "\n",
    "Q2. Define the different types of statistics and give an example of when each type might be used.\n",
    "The two types of statistics are: Descriptive and inferential\n",
    "\n",
    "Descriptive Statistics consist of organizing and summerizing data. It used to describe the basic features of the data in a study. They provide simple summaries about the sample and the measures.\n",
    "\n",
    "Eg. average life expetancy in India is 70.15 years\n",
    "\n",
    "Inferential Statistics means making conclusion based on data measures.allows you to make predictions (“inferences”) from that data. With inferential statistics, you take data from samples and make generalizations about a population.\n",
    "For inferential statistics, we need to define the population and then devise a sampling plan that produces a representative sample. The statistical results incorporate the uncertainty that is inherent in using a sample to understand an entire population. The sample size becomes a vital characteristic. The law of large numbers states that as the sample size grows, the sample statistics (i.e., sample mean) will converge on the population value.\n",
    "Eg. with Inferential Statistics we can compare 2 distribution. Hypothesis tesing if Average salary of employee in Department A is greater than Department B.\n",
    "\n",
    "\n",
    "</pre>"
   ]
  },
  {
   "cell_type": "markdown",
   "id": "eb041ff8-142e-46c4-8c59-a473f9040aeb",
   "metadata": {},
   "source": [
    "<pre>\n",
    "Q3. What are the different types of data and how do they differ from each other? Provide an example of\n",
    "each type of data.\n",
    "\n",
    "There are several types of data, which are differentiated by their format, structure, and purpose. \n",
    "Main 2 Types of Data \n",
    "1.Quantitative Data\n",
    "2.Qualitative Data \n",
    "\n",
    "1. Quantitative Data consist of numeric data.Which can furthur divide into following\n",
    "A.Discrete data\n",
    "Discrete data represented by whole numbers. \n",
    "example Number of children in classroom.\n",
    "\n",
    "B.Continuous data  represented by real numbers.\n",
    "example Height of students in classroom.\n",
    "\n",
    "2.Qualitative Data  consist of categorical data.Which can furthur divide into following\n",
    "A.Nominal data are the lables which don't have any specific rank or orders.\n",
    "Example fruits : Banana, Cherry, Mango, Orange\n",
    "Gneder:Male, Female\n",
    "B.Ordinal data are the lables which have any specific rank or orders.\n",
    "example Rating Good Bad Average\n",
    "exmple Risk High Low Medium\n",
    "</pre>"
   ]
  },
  {
   "cell_type": "markdown",
   "id": "5f3a1352-38e1-4510-b86e-b837edafbd10",
   "metadata": {},
   "source": [
    "<pre>\n",
    "Q4. Categorise the following datasets with respect to quantitative and qualitative data types:\n",
    "(i) Grading in exam: A+, A, B+, B, C+, C, D, E\n",
    "(ii) Colour of mangoes: yellow, green, orange, red\n",
    "(iii) Height data of a class: [178.9, 179, 179.5, 176, 177.2, 178.3, 175.8,...]\n",
    "(iv) Number of mangoes exported by a farm: [500, 600, 478, 672, ...]\n",
    "\n",
    "Answer \n",
    "quantitative  data :\n",
    "Height data of a class: [178.9, 179, 179.5, 176, 177.2, 178.3, 175.8,...]\n",
    "Number of mangoes exported by a farm: [500, 600, 478, 672, ...]\n",
    "\n",
    "qualitative  :data \n",
    "Grading in exam: A+, A, B+, B, C+, C, D, E\n",
    "Colour of mangoes: yellow, green, orange, red\n",
    "</pre>"
   ]
  },
  {
   "cell_type": "markdown",
   "id": "86407e48-505a-4d91-b766-bf637e9ad720",
   "metadata": {},
   "source": [
    "<pre>\n",
    "Q5. Explain the concept of levels of measurement and give an example of a variable for each level.\n",
    "The levels of measurement, also known as scales of measurement, refer to the different ways in which data can be measured and classified. There are four main levels of measurement: nominal, ordinal, interval, and ratio.\n",
    "\n",
    "Nominal level of measurement: This level of measurement is used to classify data into categories which don't have any specific rank or orders.\n",
    "Example fruits : Banana, Cherry, Mango, Orange\n",
    "Gneder:Male, Female\n",
    "\n",
    "Ordinal level of measurement: This level of measurement is used to classify data into ordered categories, where the categories are ranked in a specific order or hierarchy. However, the differences between the categories are not necessarily equal or measurable. Examples of ordinal variables include educational levels (elementary, high school, college), income levels (low, medium, high), or movie ratings (1 star, 2 stars, 3 stars, etc.).\n",
    "\n",
    "Interval level of measurement: This level of measurement is used to measure data with equal intervals between the values. There is no true zero point or absence of the variable being measured. Examples of interval variables include temperature measured in degrees Celsius or Fahrenheit, IQ scores, or year of birth.\n",
    "\n",
    "Ratio level of measurement: This level of measurement is similar to the interval level, but with the addition of a true zero point or absence of the variable being measured. This means that ratios between values are meaningful and can be compared. Examples of ratio variables include height, weight, time, and income.\n",
    "</pre>"
   ]
  },
  {
   "cell_type": "markdown",
   "id": "365abd04-26ca-4dcf-a33b-bef41a3394be",
   "metadata": {},
   "source": [
    "<pre>\n",
    "Q6. Why is it important to understand the level of measurement when analyzing data? Provide an\n",
    "example to illustrate your answer.\n",
    "Understanding the level of measurement is crucial when analyzing data because it determines the types of statistical methods that can be used, the level of precision of the analysis, and the interpretations that can be made from the results.\n",
    "\n",
    "analysis of customer ratings of a product. If we use a nominal scale to classify the ratings (e.g., good, average, poor), we cannot assume that there is an equal distance between each rating category, and we cannot calculate the mean or standard deviation of the ratings. However, if we use a numerical rating scale (e.g., on a scale of 1 to 10), we can calculate the mean rating and standard deviation, and we can make more precise comparisons of the ratings between different products or customer segments.\n",
    "</pre>"
   ]
  },
  {
   "cell_type": "markdown",
   "id": "6ae89f71-5982-4cbd-be8d-690ae16d2bf5",
   "metadata": {},
   "source": [
    "<pre>\n",
    "Q7. How nominal data type is different from ordinal data type.\n",
    "\n",
    "Let's take example of class of degree college. Gender of student is nominal data type which have 2 category Male and Female.Grades of student is ordinal data type which can categories like Distiction , fist class and second class.\n",
    "\n",
    "If you observe above 2 attributes we can give rank or order to grade.\n",
    "But we can't give any orders to gender varible.\n",
    "</pre>"
   ]
  },
  {
   "cell_type": "markdown",
   "id": "b3d5eb72-7205-42d8-89eb-5ec638405992",
   "metadata": {},
   "source": [
    "<pre>\n",
    "Q8. Which type of plot can be used to display data in terms of range?\n",
    "Boxplot\n",
    "A box and whisker plot—also called a box plot—displays the five-number summary of a set of data. The five-number summary is the minimum, first quartile, median, third quartile, and maximum.\n",
    "In a box plot, we draw a box from the first quartile to the third quartile. A vertical line goes through the box at the median. The whiskers go from each quartile to the minimum or maximum.\n",
    "</pre>\n",
    "<img src=\"https://www.onlinemathlearning.com/image-files/box-plot.png\">"
   ]
  },
  {
   "cell_type": "markdown",
   "id": "c4786f64-46e6-42a9-b614-6deceff9d7d4",
   "metadata": {},
   "source": [
    "<pre>\n",
    "Q9. Describe the difference between descriptive and inferential statistics. Give an example of each\n",
    "type of statistics and explain how they are used.\n",
    "\n",
    "\n",
    "Descriptive and inferential statistics are two broad categories in the field of statistics. In this blog post, I show you how both types of statistics are important for different purposes. Interestingly, some of the statistical measures are similar, but the goals and methodologies are very different.\n",
    "\n",
    "Descriptive Statistics\n",
    "Use descriptive statistics to summarize and graph the data for a group that you choose. This process allows you to understand that specific set of observations.\n",
    "\n",
    "Suppose we want to describe the test scores in a specific class of 30 students. We record all of the test scores and calculate the summary statistics and produce graphs.\n",
    "\n",
    "These results indicate that the mean score of this class is 79.18. The scores range from 66.21 to 96.53, and the distribution is symmetrically centered around the mean. A score of at least 70 on the test is acceptable. The data show that 86.7% of the students have acceptable scores.\n",
    "\n",
    "Collectively, this information gives us a pretty good picture of this specific class. There is no uncertainty surrounding these statistics because we gathered the scores for everyone in the class. However, we can’t take these results and extrapolate to a larger population of students.\n",
    "\n",
    "Inferential Statistics\n",
    "Inferential statistics takes data from a sample and makes inferences about the larger population from which the sample was drawn. Because the goal of inferential statistics is to draw conclusions from a sample and generalize them to a population, we need to have confidence that our sample accurately reflects the population. This requirement affects our process. At a broad level, we must do the following:\n",
    "\n",
    "Define the population we are studying.\n",
    "Draw a representative sample from that population.\n",
    "Use analyses that incorporate the sampling error.\n",
    "\n",
    "\n",
    "We don’t get to pick a convenient group. Instead, random sampling allows us to have confidence that the sample represents the population. This process is a primary method for obtaining samples that mirrors the population on average. Random sampling produces statistics, such as the mean, that do not tend to be too high or too low. Using a random sample, we can generalize from the sample to the broader population. Unfortunately, gathering a truly random sample can be a complicated process.\n",
    "\n",
    "\n",
    "For inferential statistics, we can calculate the point estimate for the mean, standard deviation, and proportion for our random sample. However, it is staggeringly improbable that any of these point estimates are exactly correct, and there is no way to know for sure anyway. Because we can’t measure all subjects in this population, there is a margin of error around these statistics. Consequently, I’ll report the confidence intervals for the mean, standard deviation, and the proportion of satisfactory scores (>=70). Here is the CSV data file: Inferential_statistics.\n",
    "</pre>\n",
    "<table><tr><td>\n",
    "Statistic</td>\t<td>Population Parameter Estimate (CIs)</td></tr>\n",
    "<tr><tr><td>Mean</td>\t<td>77.4 – 80.9</td></tr>\n",
    "<tr><td>Standard deviation</td>\t<td>7.7 – 10.1</td></tr>\n",
    "<tr><td>Proportion scores >= 70</td>\t<td>77% – 92%</td></tr>\n",
    "</table>\n",
    "<pre>\n",
    "Given the uncertainty associated with these estimates, we can be 95% confident that the population mean is between 77.4 and 80.9. The population standard deviation (a measure of dispersion) is likely to fall between 7.7 and 10.1. And, the population proportion of satisfactory scores is expected to be between 77% and 92%.\n",
    "</pre>\n"
   ]
  },
  {
   "cell_type": "markdown",
   "id": "e43fc13a-55b7-4fae-850b-2c4a578faffe",
   "metadata": {},
   "source": [
    "<pre>\n",
    "Q10. What are some common measures of central tendency and variability used in statistics? Explain\n",
    "how each measure can be used to describe a dataset.\n",
    "\n",
    "In statistics, measures of central tendency and variability are used to describe and summarize the characteristics of a dataset. The most common measures of central tendency are the mean, median, and mode. The most common measures of variability are the range, variance, and standard deviation.\n",
    "\n",
    "Mean is equal to the sum of all the values in the collection of data divided by the total number of values.\n",
    "\n",
    "Median represents the mid-value of the given set of data when arranged in a particular order.\n",
    "\n",
    "The most frequent number occurring in the data set is known as the mode.\n",
    "Variance: The variance measures how much the values in a dataset vary from the mean. It is calculated by summing the squared deviations from the mean and dividing by the total number of values. A high variance indicates that the data is widely spread out, while a low variance indicates that the data is tightly clustered around the mean.\n",
    "</pre>"
   ]
  }
 ],
 "metadata": {
  "kernelspec": {
   "display_name": "Python 3 (ipykernel)",
   "language": "python",
   "name": "python3"
  },
  "language_info": {
   "codemirror_mode": {
    "name": "ipython",
    "version": 3
   },
   "file_extension": ".py",
   "mimetype": "text/x-python",
   "name": "python",
   "nbconvert_exporter": "python",
   "pygments_lexer": "ipython3",
   "version": "3.10.8"
  }
 },
 "nbformat": 4,
 "nbformat_minor": 5
}
