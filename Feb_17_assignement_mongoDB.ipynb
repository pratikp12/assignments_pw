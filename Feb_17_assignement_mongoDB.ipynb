{
 "cells": [
  {
   "cell_type": "markdown",
   "id": "db32bf6d-473b-4af2-8f91-1b20818b8364",
   "metadata": {},
   "source": [
    "<pre>\n",
    "Q1. What is MongoDB? Explain non-relational databases in short. In which scenarios it is preferred to use\n",
    "MongoDB over SQL databases?\n",
    "MongoDB is a source-available cross-platform document-oriented database program. Classified as a NoSQL database program, MongoDB uses JSON-like documents with optional schemas. MongoDB is developed by MongoDB Inc. and licensed under the Server Side Public License which is deemed non-free by several distributions.\n",
    "\n",
    "Non-relational databases, also known as NoSQL databases, are databases that do not use the traditional table-based relational database structure. Instead, they use a variety of data models such as key-value, document-oriented, graph, or column-family. Non-relational databases can handle large amounts of unstructured or semi-structured data and can scale horizontally, making them ideal for big data applications and distributed systems.\n",
    "\n",
    "scenarios where we need to hnadle unstructured data,where a flexible data model is required, and there is a need for high scalability and performance. MongoDB is particularly suitable for applications that require real-time data processing, such as social media platforms, e-commerce websites, and mobile applications. MongoDB's flexible schema design allows developers to easily make changes to the data model without affecting the entire database structure. Additionally, MongoDB's horizontal scalability and automatic sharding make it ideal for handling large volumes of data and high traffic loads.\n",
    "</pre>"
   ]
  },
  {
   "cell_type": "markdown",
   "id": "4131981c-0262-4b4b-8918-4337fd54cf38",
   "metadata": {},
   "source": [
    "<pre>\n",
    "Q2. State and Explain the features of MongoDB.\n",
    "MongoDB is a scalable, flexible NoSQL document database platform designed to overcome the relational databases approach and the limitations of other NoSQL solutions. MongoDB is well known for its horizontal scaling and load balancing capabilities, which has given application developers an unprecedented level of flexibility and scalability.\n",
    "\n",
    "1. Support ad hoc queries\n",
    "\n",
    "In MongoDB, you can search by field, range query and it also supports regular expression searches.\n",
    "\n",
    "2. Indexing\n",
    "\n",
    "You can index any field in a document.\n",
    "\n",
    "3. Replication\n",
    "\n",
    "MongoDB supports Master Slave replication.\n",
    "\n",
    "A master can perform Reads and Writes and a Slave copies data from the master and can only be used for reads or back up (not writes)\n",
    "\n",
    "4. Duplication of data\n",
    "\n",
    "MongoDB can run over multiple servers. The data is duplicated to keep the system up and also keep its running condition in case of hardware failure.\n",
    "\n",
    "5. Load balancing\n",
    "\n",
    "It has an automatic load balancing configuration because of data placed in shards.\n",
    "\n",
    "6. Supports map reduce and aggregation tools.\n",
    "\n",
    "7. Uses JavaScript instead of Procedures.\n",
    "\n",
    "8. It is a schema-less database written in C++.\n",
    "\n",
    "9. Provides high performance.\n",
    "\n",
    "10. Stores files of any size easily without complicating your stack.\n",
    "</pre>"
   ]
  },
  {
   "cell_type": "markdown",
   "id": "0f5c2501-705b-40e7-bd94-93bd734a4fe0",
   "metadata": {},
   "source": [
    "<pre>\n",
    "Q3. Write a code to connect MongoDB to Python. Also, create a database and a collection in MongoDB.\n",
    "import pymongo\n",
    "client = pymongo.MongoClient(\"mongodb://:imdon21jan@ac-jgddqal-shard-00-00.qczvvop.mongodb.net:27017,ac-jgddqal-shard-00-01.qczvvop.mongodb.net:27017,ac-jgddqal-shard-00-02.qczvvop.mongodb.net:27017/?ssl=true&replicaSet=atlas-tchn5d-shard-0&authSource=admin&retryWrites=true&w=majority\")\n",
    "db = client.test\n",
    "coll_create = db[\"my_record\"]\n",
    "</pre>"
   ]
  },
  {
   "cell_type": "markdown",
   "id": "18cf7e2f-0925-4b76-bb51-7cd468e161c0",
   "metadata": {},
   "source": [
    "<pre>\n",
    "Q4. Using the database and the collection created in question number 3, write a code to insert one record,\n",
    "and insert many records. Use the find() and find_one() methods to print the inserted record.\n",
    "\n",
    "</pre>"
   ]
  },
  {
   "cell_type": "markdown",
   "id": "5d6837d5-fac8-4c92-bbb4-1d583872b36b",
   "metadata": {},
   "source": [
    "<pre>\n",
    "data = {\"name\":\"Pratik\",\n",
    "       \"class\":\"data science masters\",\n",
    "       \"timing\":\"flexi\"}\n",
    "\n",
    "coll_create.insert_one(data)\n",
    "\n",
    "\n",
    "data1={[{\"course1\":\"NLP\"},{\"course2\":\"OpenCv\"},{\"course3\":\"ML\"}]}\n",
    "\n",
    "coll_create.insert_many(data1)\n",
    "\n",
    "for i in coll_create.find():\n",
    "\tprint(i)\n",
    "    \n",
    "coll_craete.find_one()    \n",
    "</pre>"
   ]
  },
  {
   "cell_type": "markdown",
   "id": "13718e49-a411-4f02-b5be-2b54fd46e57c",
   "metadata": {},
   "source": [
    "<pre>\n",
    "Q5. Explain how you can use the find() method to query the MongoDB database. Write a simple code to\n",
    "demonstrate this.\n",
    "\n",
    "You can retrieve a document by using the Find() method on a collection object.\n",
    "In other words, it is used to select data in a table. It is also used to return all events to the selected data. \n",
    "\n",
    "data_employe=[{'Name':'Raj','Age':23},{'Name':'Priya','Age':24},{'Name':'Mohhan','Age':27}]\n",
    "\n",
    "for i in col1_create.find({'Age':{'$gte':'23'}}):\n",
    "    print(i)\n",
    "</pre>"
   ]
  },
  {
   "cell_type": "markdown",
   "id": "49555fc3-5e6f-43f4-a8d7-73e3880df8e0",
   "metadata": {},
   "source": [
    "<pre>\n",
    "Q6. Explain the sort() method. Give an example to demonstrate sorting in MongoDB.\n",
    "The method accepts a document containing a list of fields along with their sorting order. To specify sorting order 1 and -1 are used. 1 is used for ascending order while -1 is used for descending order.\n",
    "The sort() method takes one parameter for \"fieldname\" and one parameter for \"direction\" (ascending is the default direction).\n",
    "\n",
    "import pymongo\n",
    "\n",
    "myclient = pymongo.MongoClient(\"mongodb://localhost:27017/\")\n",
    "mydb = myclient[\"mydatabase\"]\n",
    "mycol = mydb[\"customers\"]\n",
    "\n",
    "mydoc = mycol.find().sort(\"name\")\n",
    "\n",
    "for x in mydoc:\n",
    "  print(x)\n",
    "\n",
    "</pre>"
   ]
  },
  {
   "cell_type": "markdown",
   "id": "7bb077c9-f7e2-4189-844d-e1cf4f7a0d57",
   "metadata": {},
   "source": [
    "<pre>\n",
    "Q7. Explain why delete_one(), delete_many(), and drop() is used.\n",
    "In MongoDB, there are several methods available to delete data from a collection. Here's a brief explanation of each method:\n",
    "\n",
    "delete_one(): This method is used to delete a single document that matches the specified filter criteria. If there are multiple documents that match the filter, only the first one encountered will be deleted. This method takes a filter object as a parameter, which specifies the criteria for the document to be deleted.\n",
    "\n",
    "delete_many(): This method is used to delete multiple documents that match the specified filter criteria. This method also takes a filter object as a parameter, but it deletes all documents that match the filter criteria, not just the first one.\n",
    "\n",
    "drop(): This method is used to completely remove a collection from the database. When a collection is dropped, all documents in the collection are deleted, and the indexes and metadata associated with the collection are also removed.\n",
    "\n",
    "\n",
    "These methods are used for different purposes in MongoDB:\n",
    "\n",
    "delete_one() is used when you want to delete a single document from a collection. For example, if you want to delete a specific user from a user collection based on their email address, you would use delete_one() to delete that document.\n",
    "\n",
    "delete_many() is used when you want to delete multiple documents from a collection based on a specific filter criteria. For example, if you want to delete all users from a user collection who are over a certain age, you would use delete_many() to delete those documents.\n",
    "\n",
    "drop() is used when you want to completely remove a collection from the database. For example, if you no longer need a collection and want to reclaim the disk space it was using, you would use drop() to delete the entire collection.\n",
    "</pre>"
   ]
  },
  {
   "cell_type": "code",
   "execution_count": null,
   "id": "ef621b9e-3b2f-456f-aa73-1fa29e6787e1",
   "metadata": {},
   "outputs": [],
   "source": []
  }
 ],
 "metadata": {
  "kernelspec": {
   "display_name": "Python 3 (ipykernel)",
   "language": "python",
   "name": "python3"
  },
  "language_info": {
   "codemirror_mode": {
    "name": "ipython",
    "version": 3
   },
   "file_extension": ".py",
   "mimetype": "text/x-python",
   "name": "python",
   "nbconvert_exporter": "python",
   "pygments_lexer": "ipython3",
   "version": "3.10.8"
  }
 },
 "nbformat": 4,
 "nbformat_minor": 5
}
