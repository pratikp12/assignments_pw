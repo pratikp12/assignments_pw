{
 "cells": [
  {
   "cell_type": "markdown",
   "id": "5e403f80-2297-4cbf-8663-a5b8671cdd62",
   "metadata": {},
   "source": [
    "<pre>\n",
    "Q1. What are the three measures of central tendency?\n",
    "In statistics, measures of central tendency and variability are used to describe and summarize the characteristics of a dataset. The most common measures of central tendency are the mean, median, and mode. The most common measures of variability are the range, variance, and standard deviation.\n",
    "\n",
    "Mean is equal to the sum of all the values in the collection of data divided by the total number of values.\n",
    "\n",
    "Median represents the mid-value of the given set of data when arranged in a particular order.\n",
    "\n",
    "The most frequent number occurring in the data set is known as the mode.\n",
    "<pre>"
   ]
  },
  {
   "cell_type": "markdown",
   "id": "5ab07428-a895-4238-8e99-7a756006041c",
   "metadata": {},
   "source": [
    "<pre>\n",
    "Q2. What is the difference between the mean, median, and mode? How are they used to measure the\n",
    "central tendency of a dataset\n",
    "\n",
    "Mean is equal to the sum of all the values in the collection of data divided by the total number of values.\n",
    "\n",
    "Median represents the mid-value of the given set of data when arranged in a particular order.\n",
    "\n",
    "The most frequent number occurring in the data set is known as the mode.\n",
    "\n",
    " the mean, median, and mode are all measures of central tendency used to describe a dataset. The mean is typically used when the data is normally distributed, the median is used when the data is skewed or has extreme values, and the mode is used when working with categorical data or identifying the most common value. It is important to choose the appropriate measure of central tendency based on the nature of the data being analyzed.\n",
    "</pre>"
   ]
  },
  {
   "cell_type": "markdown",
   "id": "8d284c98-4015-4950-aa8c-977dfc6ba9c8",
   "metadata": {},
   "source": [
    "<pre>\n",
    "Q3. Measure the three measures of central tendency for the given height data:\n",
    "[178,177,176,177,178.2,178,175,179,180,175,178.9,176.2,177,172.5,178,176.5]\n",
    "\n",
    "</pre>"
   ]
  },
  {
   "cell_type": "code",
   "execution_count": 1,
   "id": "f0bf03ee-e2c8-48e5-a85a-c069c6683134",
   "metadata": {},
   "outputs": [
    {
     "name": "stdout",
     "output_type": "stream",
     "text": [
      "arr :  [178, 177, 176, 177, 178.2, 178, 175, 179, 180, 175, 178.9, 176.2, 177, 172.5, 178, 176.5]\n",
      "mean of arr :  177.01875\n"
     ]
    }
   ],
   "source": [
    "\n",
    "\n",
    "# Python Program illustrating\n",
    "# numpy.mean() method\n",
    "import numpy as np\n",
    "\t\n",
    "# 1D array\n",
    "d=[178,177,176,177,178.2,178,175,179,180,175,178.9,176.2,177,172.5,178,176.5]\n",
    "\n",
    "print(\"arr : \", d)\n",
    "print(\"mean of arr : \", np.mean(d))\n",
    "\n"
   ]
  },
  {
   "cell_type": "markdown",
   "id": "cc6a88af-c80a-4ab1-9f3b-251de6f8bb25",
   "metadata": {},
   "source": [
    "<pre>\n",
    "Q4. Find the standard deviation for the given data:\n",
    "[178,177,176,177,178.2,178,175,179,180,175,178.9,176.2,177,172.5,178,176.5]\n",
    "\n",
    "</pre>"
   ]
  },
  {
   "cell_type": "code",
   "execution_count": 2,
   "id": "ea354c7c-eb6d-4527-8294-26405f420ff1",
   "metadata": {},
   "outputs": [
    {
     "name": "stdout",
     "output_type": "stream",
     "text": [
      "arr :  [178, 177, 176, 177, 178.2, 178, 175, 179, 180, 175, 178.9, 176.2, 177, 172.5, 178, 176.5]\n",
      "std of arr :  1.7885814036548633\n"
     ]
    }
   ],
   "source": [
    "# Python Program illustrating \n",
    "# numpy.std() method \n",
    "import numpy as np\n",
    "    \n",
    "# 1D array \n",
    "arr = [178,177,176,177,178.2,178,175,179,180,175,178.9,176.2,177,172.5,178,176.5]\n",
    "  \n",
    "print(\"arr : \", arr) \n",
    "print(\"std of arr : \", np.std(arr))"
   ]
  },
  {
   "cell_type": "markdown",
   "id": "6ef55049-08af-4c8e-bbb4-7571330fdfce",
   "metadata": {},
   "source": [
    "<pre>\n",
    "Q5. How are measures of dispersion such as range, variance, and standard deviation used to describe\n",
    "the spread of a dataset? Provide an example.\n",
    "\n",
    "Range \n",
    "Range is difference between Higest value and lowest value.\n",
    "\n",
    "\n",
    "Standard Deviation\n",
    "Standard deviation is a statistical measurement that looks at how far a group of numbers is from the mean. Put simply, standard deviation measures how far apart numbers are in a data set.\n",
    "\n",
    "This metric is calculated as the square root of the variance. This means you have to figure out the variation between each data point relative to the mean. Therefore, the calculation of variance uses squares because it weighs outliers more heavily than data that appears closer to the mean. This calculation also prevents differences above the mean from canceling out those below, which would result in a variance of zero.\n",
    "\n",
    "Variance\n",
    "A variance is the average of the squared differences from the mean. To figure out the variance, calculate the difference between each point within the data set and the mean. Once you figure that out, square and average the results.\n",
    "\n",
    "For example, if a group of numbers ranges from one to 10, you get a mean of 5.5. If you square the differences between each number and the mean and find their sum, the result is 82.5. To figure out the variance:\n",
    "\n",
    "Divide the sum, 82.5, by N-1, which is the sample size (in this case 10) minus 1.\n",
    "The result is a variance of 82.5/9 = 9.17.\n",
    "Note that the standard deviation is the square root of the variance so the standard deviation is about 3.03.\n",
    "\n",
    "\n",
    "We are having numers  4, 34, 11, 12, 2, and 26. \n",
    "\n",
    "mean will be 16 and  variance of 130.67. To figure out the standard deviation, we have to take the square root of the variance, then subtract one, which is 10.43\n",
    "\n",
    "Range here is 34-4 = 30.\n",
    "</pre>"
   ]
  },
  {
   "cell_type": "markdown",
   "id": "81bc4003-f3f7-400d-96ba-a5ccfbbdf87f",
   "metadata": {},
   "source": [
    "<pre>\n",
    "Q6. What is a Venn diagram?\n",
    "A Venn diagram is an illustration that uses circles to show the relationships among things or finite groups of things. Circles that overlap have a commonality while circles that do not overlap do not share those traits. Venn diagrams help to visually represent the similarities and differences between two concepts.\n",
    "</pre>\n",
    "\n",
    "<img src='https://i0.wp.com/statisticsbyjim.com/wp-content/uploads/2021/09/Venn_diagram_example1.png?w=743&ssl=1'>"
   ]
  },
  {
   "cell_type": "markdown",
   "id": "19f3e897-5f9e-41e8-a0ca-ea73967bc497",
   "metadata": {},
   "source": [
    "<pre>\n",
    "Q7. For the two given sets A = (2,3,4,5,6,7) & B = (0,2,6,8,10). Find:\n",
    "(i) A ⋂ B\n",
    "(ii) A ⋃ B\n",
    "</pre>\n",
    "(i) A ⋂ B={2,6}\n",
    "\n",
    "\n",
    "(ii) A ⋃ B={0,2,3,5,6,8,8,10}"
   ]
  },
  {
   "cell_type": "markdown",
   "id": "a3600e2d-9b21-4ff8-a3b3-d14f3266f5ee",
   "metadata": {},
   "source": [
    "<pre>\n",
    "Q8. What do you understand about skewness in data?\n",
    "Skewness is demonstrated on a bell curve when data points are not distributed symmetrically to the left and right sides of the median on a bell curve.\n",
    "</pre>\n",
    "\n",
    "<img src='https://av-eks-blogoptimized.s3.amazonaws.com/sk1.png'>\n",
    "\n",
    "<pre>\n",
    "positively skewed distribution is the right-skewed distribution with the long tail on its right side. The value of skewness for a positively skewed distribution is greater than zero. As you might have already understood by looking at the figure, the value of the mean is the greatest one, followed by the median and then by mode.\n",
    "Therefore, the measure of central tendencies is mode < median < mean.\n",
    "</pre>\n",
    "<img src='https://av-eks-blogoptimized.s3.amazonaws.com/sk8.png'>\n",
    "\n",
    "<pre>\n",
    "a negatively skewed distribution is the left-skewed distribution with the long tail on its left side. The value of skewness for a negatively skewed distribution is less than zero. You can also see in the above figure that the measure of central tendencies is mean < median < mode.\n",
    "</pre>\n",
    "<img src='https://av-eks-blogoptimized.s3.amazonaws.com/sk11.png'>"
   ]
  },
  {
   "cell_type": "markdown",
   "id": "c5a00001-aad0-4e85-827f-675875c3fec7",
   "metadata": {},
   "source": [
    "<pre>\n",
    "Q9. If a data is right skewed then what will be the position of median with respect to mean?\n",
    "\n",
    "Skewness is demonstrated on a bell curve when data points are not distributed symmetrically to the left and right sides of the median on a bell curve.\n",
    "positively skewed distribution is the right-skewed distribution with the long tail on its right side. The value of skewness for a positively skewed distribution is greater than zero. As you might have already understood by looking at the figure, the value of the mean is the greatest one, followed by the median and then by mode.\n",
    "Therefore, the measure of central tendencies is mode < median < mean.\n",
    "</pre>\n",
    "<img src='https://av-eks-blogoptimized.s3.amazonaws.com/sk4.png'>\n",
    "If a data is right skewed then median will be left to mean.\n"
   ]
  },
  {
   "cell_type": "markdown",
   "id": "41940dc1-0a31-4079-bf5f-90592a3eb01e",
   "metadata": {},
   "source": [
    "<pre>\n",
    "Q10. Explain the difference between covariance and correlation. How are these measures used in\n",
    "statistical analysis?\n",
    "\n",
    "Covariance and correlation are both statistical measures used to describe the relationship between two variables.\n",
    "\n",
    "Covariance measures how much two variables vary together. Specifically, covariance is the average of the product of the deviations of each variable from their respective means. If two variables have a positive covariance, it means that they tend to increase or decrease together, while a negative covariance indicates that they tend to vary in opposite directions. However, the magnitude of covariance depends on the units of the variables, making it difficult to compare covariances between variables that have different units.\n",
    "\n",
    "Correlation, on the other hand, is a standardized measure of the relationship between two variables. It ranges from -1 to 1, with a value of 1 indicating a perfect positive correlation, a value of -1 indicating a perfect negative correlation, and a value of 0 indicating no correlation. Correlation is obtained by dividing the covariance by the product of the standard deviations of the two variables, which makes it unitless and allows for easy comparison between variables.\n",
    "\n",
    "In statistical analysis, both covariance and correlation are used to examine the relationship between two variables. However, correlation is generally preferred over covariance because it is more interpretable and allows for easier comparisons between different variables. Correlation is commonly used in regression analysis to determine the strength and direction of the relationship between a dependent variable and one or more independent variables. It is also used in exploratory data analysis to identify patterns and relationships between variables.\n",
    "</pre>"
   ]
  },
  {
   "cell_type": "markdown",
   "id": "0e7b5d2e-c984-4223-8050-adecde739330",
   "metadata": {},
   "source": [
    "<pre>\n",
    "Q11. What is the formula for calculating the sample mean? Provide an example calculation for a\n",
    "dataset.\n",
    "\n",
    "sample mean = (sum of all values in the sample) / (number of values in the sample)\n",
    "A sample is just a small part of a whole. For example, if you work for polling company and want to know how much people pay for food a year, you aren’t going to want to poll over 300 million people. Instead, you take a fraction of that 300 million (perhaps a thousand people); that fraction is called a sample. The mean is another word for “average.” So in this example, the sample mean would be the average amount those thousand people pay for food a year.\n",
    "\n",
    "The sample mean is useful because it allows you to estimate what the whole population is doing, without surveying everyone. Let’s say your sample mean for the food example was $2400 per year. The odds are, you would get a very similar figure if you surveyed all 300 million people. So the sample mean is a way of saving a lot of time and money.\n",
    "\n",
    "sample mean for the following set of numbers: 12, 13, 14, 16, 17, 40, 43, 55, 56, 67, 78, 78, 79, 80, 81, 90, 99, 101, 102, 304, 306, 400, 401, 403, 404, 405.\n",
    "\n",
    "sum for all above dataset is 3744.\n",
    "\n",
    "count of numbers in dataset is 26.\n",
    "\n",
    "sample mean for above dataset will be 3744/26=144\n",
    "</pre>"
   ]
  },
  {
   "cell_type": "markdown",
   "id": "16aa90e1-a146-43d4-b63c-bedcc3c59101",
   "metadata": {},
   "source": [
    "<pre>\n",
    "Q12. For a normal distribution data what is the relationship between its measure of central tendency?\n",
    "\n",
    "n a normal distribution, data is symmetrically distributed with no skew. Most values cluster around a central region, with values tapering off as they go further away from the center. The mean, mode and median are exactly the same in a normal distribution.\n",
    "\n",
    "For a normal distribution, the three measures of central tendency (mean, median, and mode) are the same. This means that the mean, median, and mode of a normal distribution are all located at the center of the distribution, which is also the point of highest density.\n",
    "\n",
    "In a normal distribution, the mean is calculated as the sum of all values divided by the total number of values. The median is the middle value when the data is sorted in ascending or descending order, and the mode is the value that occurs most frequently.\n",
    "\n",
    "While the mean, median, and mode may differ in distributions that are not normal, in a normal distribution they will all be equal. This is because the normal distribution is symmetric around its mean, and the mean, median, and mode are all located at the peak of the distribution, which is the point of symmetry.\n",
    "</pre>\n"
   ]
  },
  {
   "cell_type": "markdown",
   "id": "70b4b7c6-a20d-4e4d-a3f5-0dce70467309",
   "metadata": {},
   "source": [
    "<pre>\n",
    "Q13. How is covariance different from correlation?\n",
    "\n",
    "Covariance measures how the two variables move concerning each other and is an extension of the concept of variance (which tells about how a single variable varies). It can take any value from -∞ to +∞.\n",
    "\n",
    "\n",
    "Correlation is a step ahead of covariance as it quantifies the relationship between two random variables. In simple terms, it is a unit measure of how these variables change concerning each other (normalized covariance value).\n",
    "</pre>\n",
    "\n",
    "<table><thead><tr><th class=\"has-text-align-center\" data-align=\"center\"><strong>Basis</strong></th><th class=\"has-text-align-center\" data-align=\"center\"><strong>Covariance</strong></th><th class=\"has-text-align-center\" data-align=\"center\"><strong>Correlation</strong></th></tr></thead><tbody><tr><td class=\"has-text-align-center\" data-align=\"center\"><strong>Meaning</strong></td><td class=\"has-text-align-center\" data-align=\"center\">Covariance is an indicator of how two random variables are dependent on each other. A higher number denotes higher dependency.</td><td class=\"has-text-align-center\" data-align=\"center\">Correlation indicates how strongly these two variables are related, provided other conditions are constant. The maximum value is +1, representing a perfect dependent relationship.</td></tr><tr><td class=\"has-text-align-center\" data-align=\"center\"><strong>Relationship</strong></td><td class=\"has-text-align-center\" data-align=\"center\">We can deduct correlation from a covariance.</td><td class=\"has-text-align-center\" data-align=\"center\">Correlation provides a measure of covariance on a standard scale. It is deduced by dividing the calculated covariance by standard deviation.</td></tr><tr><td class=\"has-text-align-center\" data-align=\"center\"><strong>Values</strong></td><td class=\"has-text-align-center\" data-align=\"center\">The value of covariance lies in the range of -∞ and +∞.</td><td class=\"has-text-align-center\" data-align=\"center\">Correlation is limited to values between the range -1 and +1.</td></tr><tr><td class=\"has-text-align-center\" data-align=\"center\"><strong>Scalability</strong></td><td class=\"has-text-align-center\" data-align=\"center\">Covariance is affected.</td><td class=\"has-text-align-center\" data-align=\"center\">Correlation is not affected by a change in scales or multiplication by a constant.</td></tr><tr><td class=\"has-text-align-center\" data-align=\"center\"><strong>Units</strong></td><td class=\"has-text-align-center\" data-align=\"center\">Covariance has a definite unit as deduced by the multiplication of two numbers and their units.</td><td class=\"has-text-align-center\" data-align=\"center\">Correlation is a unitless absolute number between -1 and +1, including decimal values.</td></tr></tbody></table>\n"
   ]
  },
  {
   "cell_type": "markdown",
   "id": "6e575e6b-06b4-4086-87d6-0bca0f7f830c",
   "metadata": {},
   "source": [
    "<pre>\n",
    "Q14. How do outliers affect measures of central tendency and dispersion? Provide an example.\n",
    "\n",
    "Outliers are data points that are significantly different from the other values in a dataset. Outliers can have a significant impact on measures of central tendency and dispersion.\n",
    "\n",
    "Measures of Central Tendency:\n",
    "\n",
    "Outliers can greatly affect the mean but have little impact on the median and mode. Since the mean is calculated by taking the sum of all values and dividing by the total number of values, the presence of a single outlier that is significantly larger or smaller than the other values can greatly skew the mean. On the other hand, the median is not affected by extreme values because it is calculated by finding the middle value in a sorted dataset. The mode, which is the most frequently occurring value, is also relatively insensitive to outliers.\n",
    "\n",
    "Example: Consider a dataset of 10 numbers: 1, 2, 3, 4, 5, 6, 7, 8, 9, and 100. The mean of this dataset is 15.5, the median is 5.5, and the mode is not applicable since no value appears more than once. The presence of the outlier (100) greatly skews the mean, making it much larger than the median.\n",
    "\n",
    "Measures of Dispersion:\n",
    "\n",
    "Outliers can also have a significant impact on measures of dispersion, such as the range and standard deviation. The range is the difference between the largest and smallest values in a dataset, and the presence of an outlier can greatly increase the range. The standard deviation, which measures the amount of variation in a dataset, is also sensitive to outliers. In a dataset with outliers, the standard deviation will be larger than in a dataset without outliers.\n",
    "\n",
    "Example: Consider the same dataset as above: 1, 2, 3, 4, 5, 6, 7, 8, 9, and 100. The range of this dataset is 99, which is greatly inflated by the outlier. The standard deviation of this dataset is 32.0, which is also larger than it would be if the outlier were not present.\n",
    "\n",
    "</pre>"
   ]
  }
 ],
 "metadata": {
  "kernelspec": {
   "display_name": "Python 3 (ipykernel)",
   "language": "python",
   "name": "python3"
  },
  "language_info": {
   "codemirror_mode": {
    "name": "ipython",
    "version": 3
   },
   "file_extension": ".py",
   "mimetype": "text/x-python",
   "name": "python",
   "nbconvert_exporter": "python",
   "pygments_lexer": "ipython3",
   "version": "3.10.8"
  }
 },
 "nbformat": 4,
 "nbformat_minor": 5
}
