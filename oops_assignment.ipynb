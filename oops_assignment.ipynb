{
 "cells": [
  {
   "cell_type": "markdown",
   "id": "3b6d9a61-fbe3-48fa-ab99-064f55302173",
   "metadata": {},
   "source": [
    "Q1. Explain Class and Object with respect to Object-Oriented Programming. Give a suitable example.\n",
    "\n",
    "class is blueprint to define obejet\n",
    "special datatype in python which allows developer to define object.\n",
    "Objects are instance of class."
   ]
  },
  {
   "cell_type": "code",
   "execution_count": 1,
   "id": "fd05f677-3789-46a7-b93f-1b111f2b87a3",
   "metadata": {},
   "outputs": [],
   "source": [
    "class candidate:\n",
    "    def __init__ (self,name,degree,age,profile):\n",
    "        self.degree=degree\n",
    "        self.name=name\n",
    "        self.age=age\n",
    "        self.profile=profile\n",
    "        \n",
    "    def age_check(self):\n",
    "        return self.age"
   ]
  },
  {
   "cell_type": "code",
   "execution_count": 2,
   "id": "71eeb985-35b5-441a-a285-9321ff3c3b99",
   "metadata": {},
   "outputs": [],
   "source": [
    "s1=candidate('Deekshith','BTech','23','BA')\n",
    "s2=candidate('Manasi','CA','24','FA')\n",
    "s3=candidate('Gurjote','BSc. Mathematics Houners','23','DS')\n"
   ]
  },
  {
   "cell_type": "code",
   "execution_count": 3,
   "id": "b168a759-82ea-4bc4-a426-c9b4d1414026",
   "metadata": {},
   "outputs": [
    {
     "data": {
      "text/plain": [
       "'Deekshith'"
      ]
     },
     "execution_count": 3,
     "metadata": {},
     "output_type": "execute_result"
    }
   ],
   "source": [
    "s1.name"
   ]
  },
  {
   "cell_type": "code",
   "execution_count": 4,
   "id": "9c86f913-0b7e-4f5f-94bc-3e8d1e7d2f4e",
   "metadata": {},
   "outputs": [
    {
     "data": {
      "text/plain": [
       "'24'"
      ]
     },
     "execution_count": 4,
     "metadata": {},
     "output_type": "execute_result"
    }
   ],
   "source": [
    "s2.age_check()"
   ]
  },
  {
   "cell_type": "markdown",
   "id": "8d65d077-758f-4fab-a69c-6f701e2a8d98",
   "metadata": {},
   "source": [
    "Q2. Name the four pillars of OOPs.<br>\n",
    "1.Inheritance<br>\n",
    "2.Polymorphism<br>\n",
    "3.Encapsulation <br>\n",
    "4.Abstraction<br>\n"
   ]
  },
  {
   "cell_type": "code",
   "execution_count": null,
   "id": "0e8cc6b0-f26a-4c6d-b0b1-91bd1e881cf2",
   "metadata": {},
   "outputs": [],
   "source": []
  },
  {
   "cell_type": "markdown",
   "id": "c0f7ea5a-cfd7-4150-888b-ceb64f665ff5",
   "metadata": {},
   "source": [
    "3..Explain why the __init__() function is used. Give a suitable example.<br>\n",
    "__init__() function is used to initilize the object. It containts attributes of object \n"
   ]
  },
  {
   "cell_type": "code",
   "execution_count": 5,
   "id": "795b9b44-260a-422a-a861-e441bc527d8c",
   "metadata": {},
   "outputs": [],
   "source": [
    "class person:\n",
    "    \n",
    "    def __init__(self,name,age,gender):\n",
    "        self.name=name\n",
    "        self.age=age\n",
    "        self.gender=gender\n",
    "        "
   ]
  },
  {
   "cell_type": "code",
   "execution_count": 6,
   "id": "132aa43e-d87f-4d28-b30e-5bf2e7636160",
   "metadata": {},
   "outputs": [],
   "source": [
    "p1=person('Pratik',25,'Male')\n",
    "p2=person('Ankit',24,'Male')"
   ]
  },
  {
   "cell_type": "markdown",
   "id": "4a1dfcdc-15b2-4626-8947-535040e3d528",
   "metadata": {},
   "source": [
    "in above example we are defining two object  of class person.init() function is constructer function of objects of class . <br>\n",
    "It initialize object and define attributes and methods of object "
   ]
  },
  {
   "cell_type": "markdown",
   "id": "56a8aca5-597c-4e5d-ba04-ef28a620d203",
   "metadata": {},
   "source": [
    "Q4. Why self is used in OOPs?<br>\n",
    "The self parameter is a reference to the current instance of the class, and is used to access variables that belongs to the class.\n"
   ]
  },
  {
   "cell_type": "markdown",
   "id": "85c2e675-fe24-4dfc-a4a9-01a9d385544c",
   "metadata": {},
   "source": [
    "Q5. What is inheritance? Give an example for each type of inheritance.<br>\n",
    "\n",
    "Inheritance support reuse code in other class.where child class can inherite properties of parent class.<br>\n",
    "\n",
    "Type of Inheritance<br>\n",
    "1.single inheritance<br>\n",
    "In single inheritance, child class inherite properties of single parent <br>\n",
    "\n",
    "<pre>\n",
    "class vehicle:\n",
    "    def __init__(self,name_of_vehicle, max_speed, average_of_vehicle):\n",
    "        self.name_of_vehicle=name_of_vehicle\n",
    "        self.max_speed=max_speed\n",
    "        self.average_of_vehicle=average_of_vehicle\n",
    "        \n",
    "class car(vehicle):\n",
    "    def __init__(self,name_of_vehicle, max_speed, average_of_vehicle):\n",
    "        #self.name_of_vehicle=name_of_vehicle\n",
    "        #self.max_speed=max_speed\n",
    "        #self.average_of_vehicle=average_of_vehicle\n",
    "        super().__init__(name_of_vehicle, max_speed, average_of_vehicle)\n",
    "        self.capacity=0\n",
    "        \n",
    "\n",
    "</pre>\n",
    "2.multiple inheritance<br>\n",
    "In multiple inheritance, child class inherite properties of multiple parent <br>\n",
    "<pre>\n",
    "class mammals:\n",
    "    def __init__(self,Nourish_child,body_cover):\n",
    "        self.Nourish_child=Nourish_child\n",
    "        self.body_cover=body_cover\n",
    "        \n",
    "class bird:\n",
    "    def __init__(self):\n",
    "        pass\n",
    "    \n",
    "    def lay_egg(self):\n",
    "        print('lay eggs')\n",
    "        \n",
    "class platypus(mammals,bird):\n",
    "    def __init__(self,Nourish_child,body_cover):\n",
    "        self.Nourish_child=Nourish_child\n",
    "        self.body_cover=body_cover\n",
    "</pre>\n",
    "3.multilevele<br>\n",
    "In multilevel inheritance, features of the base class and the derived class are further inherited into the new derived class. This is similar to a relationship representing a child and a grandfather. \n",
    "<pre>\n",
    "\n",
    "class class1 :\n",
    "    def test_class1(self) :\n",
    "        print(\"this is my class1 \" )\n",
    "                  \n",
    "                  \n",
    "class class2(class1) :\n",
    "     def test_class2(self) :\n",
    "                  print(\"this is my class2\" )\n",
    "                  \n",
    "class class3 (class2) :\n",
    "     def test_class3(self) :\n",
    "                  print(\"this is my class3 \")\n",
    "                  \n",
    "               \n",
    "</pre>"
   ]
  },
  {
   "cell_type": "code",
   "execution_count": null,
   "id": "f20329bd-50b4-4cbe-980d-3b420f487567",
   "metadata": {},
   "outputs": [],
   "source": []
  }
 ],
 "metadata": {
  "kernelspec": {
   "display_name": "Python 3 (ipykernel)",
   "language": "python",
   "name": "python3"
  },
  "language_info": {
   "codemirror_mode": {
    "name": "ipython",
    "version": 3
   },
   "file_extension": ".py",
   "mimetype": "text/x-python",
   "name": "python",
   "nbconvert_exporter": "python",
   "pygments_lexer": "ipython3",
   "version": "3.10.8"
  }
 },
 "nbformat": 4,
 "nbformat_minor": 5
}
