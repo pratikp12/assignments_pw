{
 "cells": [
  {
   "cell_type": "markdown",
   "id": "85eb2ca0-add9-45e1-889a-9fe79d017b0a",
   "metadata": {},
   "source": [
    "Q1. Which keyword is used to create a function? Create a function to return a list of odd numbers in the\n",
    "range of 1 to 25."
   ]
  },
  {
   "cell_type": "markdown",
   "id": "60adc3ec-5606-411f-9f3b-e4e9a3b0e51f",
   "metadata": {},
   "source": [
    "def keyword is used to create a function."
   ]
  },
  {
   "cell_type": "code",
   "execution_count": 1,
   "id": "ebc8ac8a-1db4-4404-b499-36b609f2edeb",
   "metadata": {},
   "outputs": [
    {
     "data": {
      "text/plain": [
       "[1, 3, 5, 7, 9, 11, 13, 15, 17, 19, 21, 23, 25]"
      ]
     },
     "execution_count": 1,
     "metadata": {},
     "output_type": "execute_result"
    }
   ],
   "source": [
    "def odd_number(n):\n",
    "    l=[]\n",
    "    for i in range(1,n+1):\n",
    "        if i%2==1:\n",
    "            l.append(i)\n",
    "    return l\n",
    "\n",
    "odd_number(25)"
   ]
  },
  {
   "cell_type": "markdown",
   "id": "268443d2-028d-46df-99a8-e90736942041",
   "metadata": {},
   "source": [
    "Q2. Why *args and **kwargs is used in some functions? Create a function each for *args and **kwargs to\n",
    "demonstrate their use.\n",
    "\n",
    "*args are used when we are not aware of number of parameters to be used by function in runtime.<br>\n",
    "**kwargs are used when we wanted to pass key value pair  parameters in function"
   ]
  },
  {
   "cell_type": "code",
   "execution_count": 3,
   "id": "af049a49-5a20-4314-a737-8f5c9d7061c0",
   "metadata": {},
   "outputs": [
    {
     "name": "stdout",
     "output_type": "stream",
     "text": [
      "Rahul\n",
      "Harsh\n",
      "Nishant\n",
      "adding more names\n",
      "Rahul\n",
      "Harsh\n",
      "Nishant\n",
      "Gaurav\n",
      "Deekshith\n"
     ]
    }
   ],
   "source": [
    "# example of *arges\n",
    "def Student_names(*args):\n",
    "    for name in args:\n",
    "        print(name)\n",
    "        \n",
    "Student_names('Rahul','Harsh','Nishant')\n",
    "print('adding more names')\n",
    "Student_names('Rahul','Harsh','Nishant','Gaurav','Deekshith')"
   ]
  },
  {
   "cell_type": "code",
   "execution_count": 6,
   "id": "5fbe279b-45cd-480f-ab42-6f5714439252",
   "metadata": {},
   "outputs": [
    {
     "data": {
      "text/plain": [
       "{'a': 'Pratik', 'Age': 6}"
      ]
     },
     "execution_count": 6,
     "metadata": {},
     "output_type": "execute_result"
    }
   ],
   "source": [
    "#example of  **kwargs\n",
    "\n",
    "def info(**kwargs):\n",
    "    return kwargs\n",
    "    \n",
    "info(a='Pratik',Age=6)"
   ]
  },
  {
   "cell_type": "markdown",
   "id": "11a4dcbf-313e-4766-8a70-d3c0a0277c88",
   "metadata": {},
   "source": [
    "Q3. What is an iterator in python? Name the method used to initialise the iterator object and the method\n",
    "used for iteration. Use these methods to print the first five elements of the given list [2, 4, 6, 8, 10, 12, 14, 16,\n",
    "18, 20].\n"
   ]
  },
  {
   "cell_type": "code",
   "execution_count": 7,
   "id": "8561cd90-1262-42dc-beed-334200f7d77d",
   "metadata": {},
   "outputs": [
    {
     "name": "stdout",
     "output_type": "stream",
     "text": [
      "2\n",
      "4\n",
      "6\n",
      "8\n",
      "10\n"
     ]
    }
   ],
   "source": [
    "list_num= [2, 4, 6, 8, 10, 12, 14, 16,\n",
    "18, 20]\n",
    "\n",
    "iter_object=iter(list_num)\n",
    "\n",
    "for i in range(1,6):\n",
    "    print(next(iter_object))"
   ]
  },
  {
   "cell_type": "markdown",
   "id": "bcfb6b4a-8d32-40f1-bb36-e6498b5b1e8b",
   "metadata": {},
   "source": [
    "Q4. What is a generator function in python? Why yield keyword is used? Give an example of a generator\n",
    "function.\n",
    "Generator function gives one value at a time instead of one set at a time. \n",
    "yield keyword is used to call one value a time. "
   ]
  },
  {
   "cell_type": "code",
   "execution_count": 27,
   "id": "cd65f4db-57f8-4276-a9e2-8dbc4bbdfd54",
   "metadata": {},
   "outputs": [],
   "source": [
    "def test_factorial(n):\n",
    "    a=1\n",
    "    for i in range(1,n+1):\n",
    "        \n",
    "        a=a*i\n",
    "        yield a"
   ]
  },
  {
   "cell_type": "code",
   "execution_count": 28,
   "id": "09022c17-2266-4cef-97b5-81bfe7a0b025",
   "metadata": {},
   "outputs": [
    {
     "data": {
      "text/plain": [
       "[1, 2, 6, 24, 120]"
      ]
     },
     "execution_count": 28,
     "metadata": {},
     "output_type": "execute_result"
    }
   ],
   "source": [
    "list(test_factorial(5))"
   ]
  },
  {
   "cell_type": "markdown",
   "id": "0430917f-ccf8-4298-ac65-4982cec0819f",
   "metadata": {},
   "source": [
    "Q5. Create a generator function for prime numbers less than 1000. Use the next() method to print the\n",
    "first 20 prime numbers."
   ]
  },
  {
   "cell_type": "code",
   "execution_count": 37,
   "id": "3c5e769c-2ecb-435b-82ce-66a96bb2fd5b",
   "metadata": {},
   "outputs": [
    {
     "name": "stdout",
     "output_type": "stream",
     "text": [
      "2\n",
      "3\n",
      "5\n",
      "7\n",
      "11\n",
      "13\n",
      "17\n",
      "19\n",
      "23\n",
      "29\n",
      "31\n",
      "37\n",
      "41\n",
      "43\n",
      "47\n",
      "53\n",
      "59\n",
      "61\n",
      "67\n",
      "71\n"
     ]
    }
   ],
   "source": [
    "def num(n):\n",
    "    for i in range (2,n):\n",
    "        flag = False\n",
    "        for j in range(2, i):\n",
    "            if (i % j) == 0:\n",
    "                # if factor is found, set flag to True\n",
    "                flag = True\n",
    "                # break out of loop\n",
    "                break\n",
    "        if flag!=True:\n",
    "            yield i\n",
    "prime_list=num(1000)\n",
    "\n",
    "\n",
    "#for loop for printing 20 prime numbers \n",
    "for i in range(1,21):\n",
    "    print(next(prime_list))"
   ]
  }
 ],
 "metadata": {
  "kernelspec": {
   "display_name": "Python 3 (ipykernel)",
   "language": "python",
   "name": "python3"
  },
  "language_info": {
   "codemirror_mode": {
    "name": "ipython",
    "version": 3
   },
   "file_extension": ".py",
   "mimetype": "text/x-python",
   "name": "python",
   "nbconvert_exporter": "python",
   "pygments_lexer": "ipython3",
   "version": "3.10.8"
  }
 },
 "nbformat": 4,
 "nbformat_minor": 5
}
