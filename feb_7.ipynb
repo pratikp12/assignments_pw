{
 "cells": [
  {
   "cell_type": "markdown",
   "id": "6e9fc073-e750-46a2-9b87-8a62ddc614ba",
   "metadata": {},
   "source": [
    "Q1. You are writing code for a company. The requirement of the company is that you create a python\n",
    "function that will check whether the password entered by the user is correct or not. The function should\n",
    "take the password as input and return the string “Valid Password” if the entered password follows the\n",
    "below-given password guidelines else it should return “Invalid Password”.<br>\n",
    "Note: 1. The Password should contain at least two uppercase letters and at least two lowercase letters.<br>\n",
    "2. The Password should contain at least a number and three special characters.<br>\n",
    "3. The length of the password should be 10 characters long.<br>"
   ]
  },
  {
   "cell_type": "code",
   "execution_count": 1,
   "id": "a4a1d60c-f4a5-43ee-b8b0-5d67e82d8bae",
   "metadata": {},
   "outputs": [
    {
     "name": "stdout",
     "output_type": "stream",
     "text": [
      "char not there\n",
      "num char there\n",
      "atlease 2 upper there\n",
      "atlease 2 lower there\n"
     ]
    },
    {
     "data": {
      "text/plain": [
       "'Valid Password'"
      ]
     },
     "execution_count": 1,
     "metadata": {},
     "output_type": "execute_result"
    }
   ],
   "source": [
    "def password_checker(password):\n",
    "    import string \n",
    "    flag=0\n",
    "    if len(password)<10:\n",
    "        flag=1\n",
    "    else :\n",
    "        invalidcharacters= set(string.punctuation)\n",
    "        if any(char in invalidcharacters for char in password):\n",
    "            flag=0\n",
    "            print('char there')\n",
    "        else:\n",
    "            flag=1\n",
    "            print('char not there')\n",
    "            \n",
    "        nums=set(['0','1','2','3','4','5','6','7','8','9'])\n",
    "        if any(char in nums for char in password):\n",
    "            flag=0\n",
    "            print('num char there')\n",
    "        else:\n",
    "            flag=1\n",
    "            print('num char not there')\n",
    "            \n",
    "            \n",
    "        u=0\n",
    "        l=0\n",
    "        for c in password:\n",
    "            if c.islower():\n",
    "                u+=1\n",
    "            if c.isupper():\n",
    "                l+=1\n",
    "        \n",
    "        if u>1:\n",
    "            print('atlease 2 upper there')\n",
    "            flag=0\n",
    "        else:\n",
    "            flag=1\n",
    "\n",
    "        if l>1:\n",
    "            print('atlease 2 lower there')\n",
    "            flag=0\n",
    "        else:\n",
    "            flag=1\n",
    "\n",
    "            \n",
    "            \n",
    "        \n",
    "    if flag==1 or flag==1 or flag==1:\n",
    "        return 'Invalid Password'\n",
    "    else:\n",
    "        return 'Valid Password'\n",
    "    \n",
    "password_checker('abjbhgft6YY')"
   ]
  },
  {
   "cell_type": "markdown",
   "id": "0213b13d-bb73-463f-ad2f-651ed809867d",
   "metadata": {},
   "source": [
    "Q2. Solve the below-given questions using at least one of the following:\n",
    "1. Lambda functioJ\n",
    "2. Filter functioJ\n",
    "3. Map functioJ\n",
    "4. List Comprehensio<br>\n",
    "Check if the string starts with a particular letter<br>\n",
    " Check if the string is numeric<br>\n",
    " Sort a list of tuples having fruit names and their quantity. [(\"mango\",99),(\"orange\",80), (\"grapes\", 1000)-] <br>\n",
    " Find the squares of numbers from 1 to 10Y<br>\n",
    " Find the cube root of numbers from 1 to 10Y<br>\n",
    " Check if a given number is evenY\n",
    " Filter odd numbers from the given list.\n",
    "[1,2,3,4,5,6,7,8,9,10-\n",
    "B Sort a list of integers into positive and negative integers lists.\n",
    "[1,2,3,4,5,6,-1,-2,-3,-4,-5,0]"
   ]
  },
  {
   "cell_type": "code",
   "execution_count": 2,
   "id": "0619f932-2b1b-47ca-a2c3-4194fb8cc989",
   "metadata": {},
   "outputs": [
    {
     "data": {
      "text/plain": [
       "'yes'"
      ]
     },
     "execution_count": 2,
     "metadata": {},
     "output_type": "execute_result"
    }
   ],
   "source": [
    "#Check if the string starts with a particular letter\n",
    "\n",
    "website='www.google.com'\n",
    "\n",
    "#print(list(map(lambda x: 'yes' if x[0]=='w' else 'no',website)))\n",
    "check_string_start=lambda x: 'yes' if x[0]=='w' else 'no'\n",
    "check_string_start(website)"
   ]
  },
  {
   "cell_type": "code",
   "execution_count": 3,
   "id": "5ee47686-cdcc-4702-bd22-955f60639d90",
   "metadata": {},
   "outputs": [
    {
     "name": "stdout",
     "output_type": "stream",
     "text": [
      "not number\n",
      "number\n"
     ]
    }
   ],
   "source": [
    "#Check if the string is numeric\n",
    "check_numeric=lambda x: 'number' if x.isnumeric() else 'not number'\n",
    "r1=check_numeric('12r')\n",
    "r2=check_numeric('23')\n",
    "\n",
    "print(r1)\n",
    "print(r2)"
   ]
  },
  {
   "cell_type": "code",
   "execution_count": 4,
   "id": "d5541731-227c-4e80-a495-95c224c769f6",
   "metadata": {},
   "outputs": [
    {
     "data": {
      "text/plain": [
       "[('orange', 80), ('mango', 99), ('grapes', 1000)]"
      ]
     },
     "execution_count": 4,
     "metadata": {},
     "output_type": "execute_result"
    }
   ],
   "source": [
    "#Sort a list of tuples having fruit names and their quantity.\n",
    "t=[(\"mango\",99),(\"orange\",80), (\"grapes\", 1000)]\n",
    "t.sort(key=lambda x:x[1])\n",
    "t\n"
   ]
  },
  {
   "cell_type": "code",
   "execution_count": 5,
   "id": "dd561a1f-3079-4957-839d-0cbb553a3d56",
   "metadata": {},
   "outputs": [
    {
     "data": {
      "text/plain": [
       "[1, 4, 9, 16, 25, 36, 49, 64, 81, 100]"
      ]
     },
     "execution_count": 5,
     "metadata": {},
     "output_type": "execute_result"
    }
   ],
   "source": [
    "#Find the squares of numbers from 1 to 10\n",
    "\n",
    "l=[i*i for i in range(1,11)]\n",
    "l"
   ]
  },
  {
   "cell_type": "code",
   "execution_count": 6,
   "id": "b5b0a15b-ae9e-486e-83f1-da7e494f999d",
   "metadata": {},
   "outputs": [
    {
     "data": {
      "text/plain": [
       "[1.0,\n",
       " 1.2599210498948732,\n",
       " 1.4422495703074083,\n",
       " 1.5874010519681994,\n",
       " 1.7099759466766968,\n",
       " 1.8171205928321397,\n",
       " 1.912931182772389,\n",
       " 2.0,\n",
       " 2.080083823051904,\n",
       " 2.154434690031884]"
      ]
     },
     "execution_count": 6,
     "metadata": {},
     "output_type": "execute_result"
    }
   ],
   "source": [
    "#Find the cube root of numbers from 1 to 10Y\n",
    "cube_root=[i**(1/3) for i in range(1,11)]\n",
    "cube_root"
   ]
  },
  {
   "cell_type": "code",
   "execution_count": 7,
   "id": "513fd0ec-511d-4317-9f87-21a05df908ad",
   "metadata": {},
   "outputs": [
    {
     "name": "stdout",
     "output_type": "stream",
     "text": [
      "not  even number\n",
      "even number\n"
     ]
    }
   ],
   "source": [
    "#Check if a given number is evenY\n",
    "check_even=lambda x: 'even number' if x%2==0 else 'not  even number'\n",
    "r1=check_even(1)\n",
    "r2=check_even(8)\n",
    "print(r1)\n",
    "print(r2)\n"
   ]
  },
  {
   "cell_type": "code",
   "execution_count": 8,
   "id": "3377a9bc-b4a7-46a6-ac09-f2df9f0fb65b",
   "metadata": {},
   "outputs": [
    {
     "data": {
      "text/plain": [
       "[2, 4, 6, 8, 10]"
      ]
     },
     "execution_count": 8,
     "metadata": {},
     "output_type": "execute_result"
    }
   ],
   "source": [
    "#Filter odd numbers from the given list. [1,2,3,4,5,6,7,8,9,10]\n",
    "\n",
    "num_list=[i for i in range(1,11)]\n",
    "list(filter(lambda x:x%2==0 ,num_list))"
   ]
  },
  {
   "cell_type": "code",
   "execution_count": 9,
   "id": "162d3260-ba52-42f3-a8e3-07821534e794",
   "metadata": {},
   "outputs": [
    {
     "name": "stdout",
     "output_type": "stream",
     "text": [
      "Positive Numebers:\n",
      "[1, 2, 3, 4, 5, 6]\n",
      "Negative Numebers:\n",
      "[-1, -2, -3, -4, -5]\n"
     ]
    }
   ],
   "source": [
    "#Sort a list of integers into positive and negative integers lists. [1,2,3,4,5,6,-1,-2,-3,-4,-5,0]\n",
    "\n",
    "num_list=[1,2,3,4,5,6,-1,-2,-3,-4,-5,0]\n",
    "positive_list=[]\n",
    "negative_list=[]\n",
    "\n",
    "positive_list=list(filter(lambda x:x>0 ,num_list))\n",
    "negative_list=list(filter(lambda x:x<0 ,num_list))\n",
    "\n",
    "print('Positive Numebers:')\n",
    "print(positive_list)\n",
    "\n",
    "\n",
    "print('Negative Numebers:')\n",
    "print(negative_list)"
   ]
  }
 ],
 "metadata": {
  "kernelspec": {
   "display_name": "Python 3 (ipykernel)",
   "language": "python",
   "name": "python3"
  },
  "language_info": {
   "codemirror_mode": {
    "name": "ipython",
    "version": 3
   },
   "file_extension": ".py",
   "mimetype": "text/x-python",
   "name": "python",
   "nbconvert_exporter": "python",
   "pygments_lexer": "ipython3",
   "version": "3.10.8"
  }
 },
 "nbformat": 4,
 "nbformat_minor": 5
}
