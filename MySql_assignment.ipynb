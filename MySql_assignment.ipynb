{
 "cells": [
  {
   "cell_type": "markdown",
   "id": "a057b7ab-9e3c-44c2-abb3-29b2228cc462",
   "metadata": {},
   "source": [
    "Q1. What is a database? Differentiate between SQL and NoSQL databases.\n",
    "Dataabse is place where we store data.This data can be use for future analysis. Database is very crucial for data analytics.<br>\n",
    "SQL databases store data in relational format. SQL store data in form of rows and columns tables.<br>\n",
    "NoSQL databases store data in various format like documents,key value and graph rather than relational tables. <br>"
   ]
  },
  {
   "cell_type": "markdown",
   "id": "b22c8b0b-e4ec-4c1e-a850-ee7fa6b36b22",
   "metadata": {},
   "source": [
    "Q2. What is DDL? Explain why CREATE, DROP, ALTER, and TRUNCATE are used with an example.\n",
    "DDL stands for data defination language, which is used for defining structure of database tables.<br>\n",
    "<pre>\n",
    "Create Use to define table structure \n",
    "ex create table student( roll_no number,\n",
    "name varchar2(30),\n",
    "age number);\n",
    "</pre>\n",
    "\n",
    "<pre>\n",
    "DROP remove table definition and indexes, data, constraints, triggers etc for that table.\n",
    "DROP table employee;\n",
    "</pre>\n",
    "\n",
    "\n",
    "<pre>\n",
    "Alter use for making changes in table structure.\n",
    "\n",
    "ALTER TABLE Customers\n",
    "ADD Email varchar(255)\n",
    "DROP age number;\n",
    "</pre>\n",
    "\n",
    "<pre>\n",
    "TRUNCATE command is used to delete all the rows from the table.\n",
    "TRUNCATE table employee;\n",
    "</pre>\n",
    "\n",
    "\n",
    "\n"
   ]
  },
  {
   "cell_type": "markdown",
   "id": "4f13afa5-4012-4126-8e47-ab4ada0aa9ae",
   "metadata": {},
   "source": [
    "Q3. What is DML? Explain INSERT, UPDATE, and DELETE with an example.\n",
    "\n",
    "DML stands for data manipulation language.  DML used for making chnages in database.<br>\n",
    "INSERT <br>\n",
    "insert statement is use for insert data into table <br>\n",
    "INSERT INTO Student (StudentName, Address, City, PostalCode)\n",
    "VALUES ('Cardinal', 'Skagen 21', 'Stavanger', '4006');<br>\n",
    "\n",
    "UPDATE<br>\n",
    "UPDATE statements make changes in table<br>\n",
    "UPDATE Customers\n",
    "SET ContactName = 'Alfred Schmidt', City = 'Frankfurt'\n",
    "WHERE CustomerID = 1;<br>\n",
    "\n",
    "DELETE<br>\n",
    "\n",
    "delete statement will delete specific rows based on condition provided<br>\n",
    "DELETE FROM Students WHERE StudentsName='Raj Kapoor';<br>\n"
   ]
  },
  {
   "cell_type": "markdown",
   "id": "808f8676-746b-4ce7-8bd6-8e516e7994c7",
   "metadata": {},
   "source": [
    "Q4. What is DQL? Explain SELECT with an example.<br>\n",
    "DQL statements are used for performing queries on the data within schema objects. The purpose of the DQL Command is to get some schema relation based on the query passed to it. <br>\n",
    "select * from Students <br>\n",
    "where roll_no=12<br>\n",
    "Above example will return only details about student whose roll_no is 12<br>\n",
    "\n",
    "select * from students ;<br>\n",
    "Above statement will return whole table details.<br>"
   ]
  },
  {
   "cell_type": "markdown",
   "id": "a447d4be-019a-481a-9a23-58fed0d53f25",
   "metadata": {},
   "source": [
    "Q5. Explain Primary Key and Foreign Key.\n",
    "Primary key is unique identifer in table. A table can have only one primary key.<br>\n",
    "whereas Foreign Key Used to maintain the relationship between two or more relational tables.<br>\n",
    "Table can have multiple Foreign Key.<br>\n",
    "Example\n",
    "<img height='400' width='600' src='https://www.programiz.com/sites/tutorial2program/files/foreign-key.png'><br>\n",
    "In above examples orders table contain customer_id which is primary key\n"
   ]
  },
  {
   "cell_type": "markdown",
   "id": "925eef3f-c306-4925-9dd2-7031e9f329f4",
   "metadata": {},
   "source": [
    "Q6. Write a python code to connect MySQL to python. Explain the cursor() and execute() method.\n",
    "<pre>\n",
    "import mysql.connector\n",
    "# import mysql.connector\n",
    "#create user 'user'@'%' identified by 'password'\n",
    "mydb = mysql.connector.connect(\n",
    "  host=\"localhost\",\n",
    "  user=\"abc\",\n",
    "  password=\"password\"\n",
    ")\n",
    "\n",
    "mycursor = mydb.cursor()\n",
    "mycursor.execute(\"create database if not exists test2\")\n",
    "mycursor.execute(\"CREATE table test2.test_table (c1 INT, c2 VARCHAR(50),c3 INT, c4 FLOAT, c5 VARCHAR(40))\")\n",
    "mycursor.close()\n",
    "</pre>"
   ]
  },
  {
   "cell_type": "code",
   "execution_count": null,
   "id": "f2fe4b23-be92-4205-897f-3b1bdd9bc00a",
   "metadata": {},
   "outputs": [],
   "source": []
  },
  {
   "cell_type": "markdown",
   "id": "b2fa90f1-21f7-48d0-ba80-90bb5e69ec89",
   "metadata": {},
   "source": [
    "Q7. Give the order of execution of SQL clauses in an SQL query.\n",
    "\n",
    "<img src='https://f4n3x6c5.stackpathcdn.com/article/difference-between-having-and-where-clause-in-sql-server/Images/difference%20between%20having%20and%20where%20clause5a.PNG'>"
   ]
  },
  {
   "cell_type": "markdown",
   "id": "cbe03c1b-527b-49f5-adf9-2aaccdd16dce",
   "metadata": {},
   "source": [
    "1.From statment is executed in first step<br>\n",
    "2.where condition is used for filtering the rows in output.<br>\n",
    "3.group by clause will partition the table in base on columns provided in group by condition.<br>\n",
    "4.Having cluase will implement condition on output of aggregate functions.<br>\n",
    "5.select statement will return final data.<br>\n",
    "6Order by clause will order the rows based on columns .<br>"
   ]
  },
  {
   "cell_type": "code",
   "execution_count": null,
   "id": "3d8ac1b5-43ac-4e24-a3dd-8c92b4b09d53",
   "metadata": {},
   "outputs": [],
   "source": []
  }
 ],
 "metadata": {
  "kernelspec": {
   "display_name": "Python 3 (ipykernel)",
   "language": "python",
   "name": "python3"
  },
  "language_info": {
   "codemirror_mode": {
    "name": "ipython",
    "version": 3
   },
   "file_extension": ".py",
   "mimetype": "text/x-python",
   "name": "python",
   "nbconvert_exporter": "python",
   "pygments_lexer": "ipython3",
   "version": "3.10.8"
  }
 },
 "nbformat": 4,
 "nbformat_minor": 5
}
