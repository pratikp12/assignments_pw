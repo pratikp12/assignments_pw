{
 "cells": [
  {
   "cell_type": "markdown",
   "id": "560f6d4e-6e4d-47c9-b612-c8be902b0259",
   "metadata": {},
   "source": [
    "Q1. Which function is used to open a file? What are the different modes of opening a file? Explain each mode\n",
    "of file opening.\n"
   ]
  },
  {
   "cell_type": "markdown",
   "id": "95532ffc-8625-4749-a00d-c853febe6c4c",
   "metadata": {},
   "source": [
    "open() is use to open a file<br>\n",
    "\n",
    "1.with open('filename.txt','rw')<br>\n",
    "\n",
    "2.f = open('filename.txt','rw')<br>\n",
    "\n",
    "\n",
    "modes:\n",
    "'r' Open a file for reading. <br>\n",
    "'w' Open a file for writing. Creates a new file if it does not exist or truncates the file if it exists.<br>\n",
    "'x' Open a file for exclusive creation. If the file already exists, the operation fails.<br>\n",
    "'a' Open for appending at the end of the file without truncating it. Creates a new file if it does not exist.<br>\n",
    "'t' Open in text mode. (default)<br>\n",
    "'b' Open in binary mode.<br>"
   ]
  },
  {
   "cell_type": "markdown",
   "id": "f6e3b362-9004-4728-9db2-dc49629ac1f7",
   "metadata": {},
   "source": [
    "Q2. Why close() function is used? Why is it important to close a file?<br>\n",
    "-- close() function is used for closing file which is opened.\n",
    "A closed file cannot be read or written any more."
   ]
  },
  {
   "cell_type": "code",
   "execution_count": 1,
   "id": "77c0d1f3-1125-4812-9aae-d4b9f7293c7b",
   "metadata": {},
   "outputs": [],
   "source": [
    "f = open('test.txt','a')\n",
    "f.write(\"\\n I am student\")\n",
    "f.close()"
   ]
  },
  {
   "cell_type": "markdown",
   "id": "1e9e21dc-9552-4f5c-aebf-62f2d8fe432d",
   "metadata": {},
   "source": [
    "Q3. Write a python program to create a text file. Write ‘I want to become a Data Scientist’ in that file. Then\n",
    "close the file. Open this file and read the content of the file.\n"
   ]
  },
  {
   "cell_type": "code",
   "execution_count": 2,
   "id": "b9130ef7-917c-4249-85d2-4f2859369d20",
   "metadata": {},
   "outputs": [
    {
     "data": {
      "text/plain": [
       "'I want to become a Data Scientist'"
      ]
     },
     "execution_count": 2,
     "metadata": {},
     "output_type": "execute_result"
    }
   ],
   "source": [
    "f = open('text_file.txt','w')\n",
    "f.write(\"I want to become a Data Scientist\")\n",
    "f.close()\n",
    "\n",
    "f = open('text_file.txt','r')\n",
    "f.readline()\n"
   ]
  },
  {
   "cell_type": "code",
   "execution_count": 3,
   "id": "6cd7e21e-5f45-4e18-8d79-491059442683",
   "metadata": {},
   "outputs": [],
   "source": [
    "f.close()"
   ]
  },
  {
   "cell_type": "markdown",
   "id": "c564bb8b-e16a-4fed-b1bd-aa9eb7ddde99",
   "metadata": {},
   "source": [
    "Q4. Explain the following with python code: read(), readline() and readlines().\n",
    "1.read() will read entire file at a time <br>\n",
    "2.readline() will read one line at a time<br>\n",
    "3.readlines() will return all line in one single list<br>"
   ]
  },
  {
   "cell_type": "code",
   "execution_count": 4,
   "id": "78e078a9-71de-492c-ba20-f7bee3388c8e",
   "metadata": {},
   "outputs": [
    {
     "data": {
      "text/plain": [
       "'Hello world\\nMy name is pratik\\nI am student\\n I am student'"
      ]
     },
     "execution_count": 4,
     "metadata": {},
     "output_type": "execute_result"
    }
   ],
   "source": [
    "f=open(\"test.txt\",'r')\n",
    "f.read()"
   ]
  },
  {
   "cell_type": "code",
   "execution_count": 5,
   "id": "ab43d12c-37ce-4bea-86ee-d781ad41b83b",
   "metadata": {},
   "outputs": [],
   "source": [
    "f.close()"
   ]
  },
  {
   "cell_type": "code",
   "execution_count": 6,
   "id": "ed3842ae-fae9-416e-af91-fc64b25b822d",
   "metadata": {},
   "outputs": [
    {
     "data": {
      "text/plain": [
       "'Hello world\\n'"
      ]
     },
     "execution_count": 6,
     "metadata": {},
     "output_type": "execute_result"
    }
   ],
   "source": [
    "f=open(\"test.txt\",'r')\n",
    "f.readline()"
   ]
  },
  {
   "cell_type": "code",
   "execution_count": 7,
   "id": "59f40a60-bd27-430d-be25-7cfce9480a6e",
   "metadata": {},
   "outputs": [
    {
     "data": {
      "text/plain": [
       "'My name is pratik\\n'"
      ]
     },
     "execution_count": 7,
     "metadata": {},
     "output_type": "execute_result"
    }
   ],
   "source": [
    "f.readline()"
   ]
  },
  {
   "cell_type": "code",
   "execution_count": 8,
   "id": "ae11182c-64dd-441f-80ec-957890ea0706",
   "metadata": {},
   "outputs": [
    {
     "data": {
      "text/plain": [
       "'I am student\\n'"
      ]
     },
     "execution_count": 8,
     "metadata": {},
     "output_type": "execute_result"
    }
   ],
   "source": [
    "f.readline()"
   ]
  },
  {
   "cell_type": "code",
   "execution_count": 9,
   "id": "d62afb70-7aff-4462-acd9-8b9b77d45a5a",
   "metadata": {},
   "outputs": [],
   "source": [
    "f.close()"
   ]
  },
  {
   "cell_type": "code",
   "execution_count": 10,
   "id": "b35bfdaa-1307-4e75-9254-8e0597255199",
   "metadata": {},
   "outputs": [
    {
     "data": {
      "text/plain": [
       "['Hello world\\n', 'My name is pratik\\n', 'I am student\\n', ' I am student']"
      ]
     },
     "execution_count": 10,
     "metadata": {},
     "output_type": "execute_result"
    }
   ],
   "source": [
    "f=open(\"test.txt\",'r')\n",
    "f.readlines()"
   ]
  },
  {
   "cell_type": "code",
   "execution_count": 11,
   "id": "90d7ba95-ff89-4154-b27b-710781452b63",
   "metadata": {},
   "outputs": [],
   "source": [
    "f.close()"
   ]
  },
  {
   "cell_type": "markdown",
   "id": "fa8921ad-3a86-4899-b798-7e97409a55da",
   "metadata": {},
   "source": [
    "Q5. Explain why with statement is used with open(). What is the advantage of using with statement and\n",
    "open() together?<br>\n",
    "The with statement works with the open() function to open a file. <br>\n",
    "When you use with statement with open function, you do not need to close the file at the end, because with would automatically close it for you.<br>\n",
    "Basically, using with just ensures that you don't forget to close() the file, making it safer/preventing memory issues."
   ]
  },
  {
   "cell_type": "markdown",
   "id": "882777ed-d138-466d-bc1a-812f534572da",
   "metadata": {},
   "source": [
    "Q6. Explain the write() and writelines() functions. Give a suitable example.\n",
    "\n",
    "with help of write() you can write single line one time for writing data you  have to call write function mutiple time<br>\n",
    "with help of writelines() you can write multiple lines at a time.<br>\n",
    "\n",
    "The only difference between the write() and writelines() is that write() is used to write a string to an already opened file while writelines() method is used to write a list of strings in an opened file."
   ]
  },
  {
   "cell_type": "code",
   "execution_count": 12,
   "id": "0b1a2104-b8c8-49a5-b29c-d224f8820c0f",
   "metadata": {},
   "outputs": [
    {
     "name": "stdin",
     "output_type": "stream",
     "text": [
      "Enter the name of the Student:  Pratik\n",
      "Enter the name of the Student:  Deekshith\n",
      "Enter the name of the Student:  Guarav\n"
     ]
    },
    {
     "name": "stdout",
     "output_type": "stream",
     "text": [
      "Data is written into the file.\n"
     ]
    }
   ],
   "source": [
    "file = open(\"Students.txt\", \"w\")\n",
    "\n",
    "for i in range(3):\n",
    "    name = input(\"Enter the name of the Student: \")\n",
    "    file.write(name)\n",
    "    file.write(\"\\n\")\n",
    "\t\n",
    "file.close()\n",
    "\n",
    "print(\"Data is written into the file.\")\n"
   ]
  },
  {
   "cell_type": "code",
   "execution_count": 13,
   "id": "a0626e29-38bd-4932-a964-ffd4ba096969",
   "metadata": {},
   "outputs": [
    {
     "name": "stdout",
     "output_type": "stream",
     "text": [
      "Data Science is interesting!\n",
      "We have yo learn data analyticsData Science is interesting!\n",
      "We have yo learn data analytics\n"
     ]
    }
   ],
   "source": [
    "f = open(\"writelines.txt\", \"a\")\n",
    "f.writelines([\"Data Science is interesting!\", \"\\nWe have yo learn data analytics\"])\n",
    "f.close()\n",
    "\n",
    "#open and read the file after the appending:\n",
    "f = open(\"writelines.txt\", \"r\")\n",
    "print(f.read())"
   ]
  },
  {
   "cell_type": "code",
   "execution_count": null,
   "id": "3e4ab3e8-7dce-42a1-8f15-b548edba82b6",
   "metadata": {},
   "outputs": [],
   "source": []
  }
 ],
 "metadata": {
  "kernelspec": {
   "display_name": "Python 3 (ipykernel)",
   "language": "python",
   "name": "python3"
  },
  "language_info": {
   "codemirror_mode": {
    "name": "ipython",
    "version": 3
   },
   "file_extension": ".py",
   "mimetype": "text/x-python",
   "name": "python",
   "nbconvert_exporter": "python",
   "pygments_lexer": "ipython3",
   "version": "3.10.8"
  }
 },
 "nbformat": 4,
 "nbformat_minor": 5
}
