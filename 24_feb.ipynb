{
 "cells": [
  {
   "cell_type": "markdown",
   "id": "b9e97cc5-6de3-4c4e-bb25-cf158e9cb4ba",
   "metadata": {},
   "source": [
    "Q1. List any five functions of the pandas library with execution.\n"
   ]
  },
  {
   "cell_type": "code",
   "execution_count": 1,
   "id": "0440405a-3111-4660-8037-1170ade0f2ad",
   "metadata": {},
   "outputs": [
    {
     "data": {
      "text/html": [
       "<div>\n",
       "<style scoped>\n",
       "    .dataframe tbody tr th:only-of-type {\n",
       "        vertical-align: middle;\n",
       "    }\n",
       "\n",
       "    .dataframe tbody tr th {\n",
       "        vertical-align: top;\n",
       "    }\n",
       "\n",
       "    .dataframe thead th {\n",
       "        text-align: right;\n",
       "    }\n",
       "</style>\n",
       "<table border=\"1\" class=\"dataframe\">\n",
       "  <thead>\n",
       "    <tr style=\"text-align: right;\">\n",
       "      <th></th>\n",
       "      <th>Name</th>\n",
       "      <th>Age</th>\n",
       "    </tr>\n",
       "  </thead>\n",
       "  <tbody>\n",
       "    <tr>\n",
       "      <th>0</th>\n",
       "      <td>Pratik</td>\n",
       "      <td>25</td>\n",
       "    </tr>\n",
       "    <tr>\n",
       "      <th>1</th>\n",
       "      <td>Raj</td>\n",
       "      <td>27</td>\n",
       "    </tr>\n",
       "    <tr>\n",
       "      <th>2</th>\n",
       "      <td>Ram</td>\n",
       "      <td>30</td>\n",
       "    </tr>\n",
       "  </tbody>\n",
       "</table>\n",
       "</div>"
      ],
      "text/plain": [
       "     Name  Age\n",
       "0  Pratik   25\n",
       "1     Raj   27\n",
       "2     Ram   30"
      ]
     },
     "execution_count": 1,
     "metadata": {},
     "output_type": "execute_result"
    }
   ],
   "source": [
    "#1 head() used for explore dataframe if we pass parameter head(10) it will show first 10 rows in dataframe.\n",
    "import pandas as pd\n",
    "df=pd.DataFrame({'Name':['Pratik','Raj','Ram'],\n",
    "                 'Age':[25,27,30]})\n",
    "\n",
    "df.head()"
   ]
  },
  {
   "cell_type": "code",
   "execution_count": 2,
   "id": "50cc519e-b49f-44be-a93f-22ec04e0626f",
   "metadata": {},
   "outputs": [
    {
     "data": {
      "text/html": [
       "<div>\n",
       "<style scoped>\n",
       "    .dataframe tbody tr th:only-of-type {\n",
       "        vertical-align: middle;\n",
       "    }\n",
       "\n",
       "    .dataframe tbody tr th {\n",
       "        vertical-align: top;\n",
       "    }\n",
       "\n",
       "    .dataframe thead th {\n",
       "        text-align: right;\n",
       "    }\n",
       "</style>\n",
       "<table border=\"1\" class=\"dataframe\">\n",
       "  <thead>\n",
       "    <tr style=\"text-align: right;\">\n",
       "      <th></th>\n",
       "      <th>Name</th>\n",
       "      <th>Age</th>\n",
       "    </tr>\n",
       "  </thead>\n",
       "  <tbody>\n",
       "    <tr>\n",
       "      <th>1</th>\n",
       "      <td>Raj</td>\n",
       "      <td>27</td>\n",
       "    </tr>\n",
       "    <tr>\n",
       "      <th>2</th>\n",
       "      <td>Ram</td>\n",
       "      <td>30</td>\n",
       "    </tr>\n",
       "  </tbody>\n",
       "</table>\n",
       "</div>"
      ],
      "text/plain": [
       "  Name  Age\n",
       "1  Raj   27\n",
       "2  Ram   30"
      ]
     },
     "execution_count": 2,
     "metadata": {},
     "output_type": "execute_result"
    }
   ],
   "source": [
    "#2. Tail used for explore dataframe if we pass parameter tail(10) it will show last 10 rows in dataframe.\n",
    "df.tail(2)"
   ]
  },
  {
   "cell_type": "code",
   "execution_count": 3,
   "id": "9ac65b3c-951a-4477-8a61-aca0ce7f4549",
   "metadata": {},
   "outputs": [
    {
     "name": "stdout",
     "output_type": "stream",
     "text": [
      "     Name\n",
      "0  Pratik\n",
      "1     Raj\n",
      "2     Ram\n"
     ]
    }
   ],
   "source": [
    "# 3 Drop\n",
    "\n",
    "newdf = df.drop(\"Age\", axis='columns')\n",
    "\n",
    "print(newdf)\n"
   ]
  },
  {
   "cell_type": "code",
   "execution_count": 4,
   "id": "8b629edc-d087-4bd8-a9ba-a4690fa6fd04",
   "metadata": {},
   "outputs": [
    {
     "name": "stdout",
     "output_type": "stream",
     "text": [
      "['Argentina' 'Pakistan' 'England' 'Switzerland' 'China' 'USA']\n",
      "[ 1  9  7 12  2 11]\n"
     ]
    }
   ],
   "source": [
    "#4.unique\n",
    "import pandas as pd\n",
    "\n",
    "# Creating a dataframe\n",
    "df = pd.DataFrame({'Sports': ['Football', 'Cricket', 'Baseball', 'Basketball',\n",
    "                'Tennis', 'Table-tennis', 'Archery', 'Swimming', 'Boxing'], \n",
    "                'Player': [\"Messi\", \"Afridi\", \"Chad\", \"Johnny\", \"Federer\",\n",
    "                 \"Yong\", \"Mark\", \"Phelps\", \"Khan\"],\n",
    "                 'Country': [\"Argentina\", \"Pakistan\", \"England\", \"England\", \"Switzerland\",\n",
    "                 \"China\", \"China\", \"USA\", \"Pakistan\" ],\n",
    "                 'Rank': [1, 9, 7, 12, 1, 2, 11, 1, 1] })\n",
    "\n",
    "# Finding unique countries\n",
    "print(df[\"Country\"].unique())\n",
    "# Finding unique rankings\n",
    "print(df[\"Rank\"].unique())"
   ]
  },
  {
   "cell_type": "code",
   "execution_count": 5,
   "id": "5f1e5a26-8a23-4ec6-b9c7-5c822ddb29d3",
   "metadata": {},
   "outputs": [
    {
     "data": {
      "text/plain": [
       "Pakistan       2\n",
       "England        2\n",
       "China          2\n",
       "Argentina      1\n",
       "Switzerland    1\n",
       "USA            1\n",
       "Name: Country, dtype: int64"
      ]
     },
     "execution_count": 5,
     "metadata": {},
     "output_type": "execute_result"
    }
   ],
   "source": [
    "#5. value_counts()\n",
    "df[\"Country\"].value_counts()"
   ]
  },
  {
   "cell_type": "markdown",
   "id": "17d6c045-2d8e-4cbe-bb81-bbb47b412245",
   "metadata": {},
   "source": [
    "Q2. Given a Pandas DataFrame df with columns 'A', 'B', and 'C', write a Python function to re-index the\n",
    "DataFrame with a new index that starts from 1 and increments by 2 for each row.\n"
   ]
  },
  {
   "cell_type": "code",
   "execution_count": 6,
   "id": "888d63cb-bd3f-41f8-971f-55d519c725e4",
   "metadata": {},
   "outputs": [
    {
     "data": {
      "text/html": [
       "<div>\n",
       "<style scoped>\n",
       "    .dataframe tbody tr th:only-of-type {\n",
       "        vertical-align: middle;\n",
       "    }\n",
       "\n",
       "    .dataframe tbody tr th {\n",
       "        vertical-align: top;\n",
       "    }\n",
       "\n",
       "    .dataframe thead th {\n",
       "        text-align: right;\n",
       "    }\n",
       "</style>\n",
       "<table border=\"1\" class=\"dataframe\">\n",
       "  <thead>\n",
       "    <tr style=\"text-align: right;\">\n",
       "      <th></th>\n",
       "      <th>A</th>\n",
       "      <th>B</th>\n",
       "      <th>C</th>\n",
       "    </tr>\n",
       "  </thead>\n",
       "  <tbody>\n",
       "    <tr>\n",
       "      <th>0</th>\n",
       "      <td>Pratik</td>\n",
       "      <td>25</td>\n",
       "      <td>Mumbai</td>\n",
       "    </tr>\n",
       "    <tr>\n",
       "      <th>1</th>\n",
       "      <td>Raj</td>\n",
       "      <td>27</td>\n",
       "      <td>Pune</td>\n",
       "    </tr>\n",
       "    <tr>\n",
       "      <th>2</th>\n",
       "      <td>Ram</td>\n",
       "      <td>30</td>\n",
       "      <td>Delhi</td>\n",
       "    </tr>\n",
       "  </tbody>\n",
       "</table>\n",
       "</div>"
      ],
      "text/plain": [
       "        A   B       C\n",
       "0  Pratik  25  Mumbai\n",
       "1     Raj  27    Pune\n",
       "2     Ram  30   Delhi"
      ]
     },
     "execution_count": 6,
     "metadata": {},
     "output_type": "execute_result"
    }
   ],
   "source": [
    "df=pd.DataFrame({'A':['Pratik','Raj','Ram'],\n",
    "                 'B':[25,27,30],\n",
    "                 'C':['Mumbai','Pune','Delhi']})\n",
    "\n",
    "df.head()"
   ]
  },
  {
   "cell_type": "code",
   "execution_count": 7,
   "id": "57c4a220-0f8d-4d2d-ac74-c3c91a2d3d98",
   "metadata": {},
   "outputs": [
    {
     "data": {
      "text/html": [
       "<div>\n",
       "<style scoped>\n",
       "    .dataframe tbody tr th:only-of-type {\n",
       "        vertical-align: middle;\n",
       "    }\n",
       "\n",
       "    .dataframe tbody tr th {\n",
       "        vertical-align: top;\n",
       "    }\n",
       "\n",
       "    .dataframe thead th {\n",
       "        text-align: right;\n",
       "    }\n",
       "</style>\n",
       "<table border=\"1\" class=\"dataframe\">\n",
       "  <thead>\n",
       "    <tr style=\"text-align: right;\">\n",
       "      <th></th>\n",
       "      <th>A</th>\n",
       "      <th>B</th>\n",
       "      <th>C</th>\n",
       "    </tr>\n",
       "  </thead>\n",
       "  <tbody>\n",
       "    <tr>\n",
       "      <th>1</th>\n",
       "      <td>Raj</td>\n",
       "      <td>27.0</td>\n",
       "      <td>Pune</td>\n",
       "    </tr>\n",
       "    <tr>\n",
       "      <th>3</th>\n",
       "      <td>NaN</td>\n",
       "      <td>NaN</td>\n",
       "      <td>NaN</td>\n",
       "    </tr>\n",
       "    <tr>\n",
       "      <th>5</th>\n",
       "      <td>NaN</td>\n",
       "      <td>NaN</td>\n",
       "      <td>NaN</td>\n",
       "    </tr>\n",
       "  </tbody>\n",
       "</table>\n",
       "</div>"
      ],
      "text/plain": [
       "     A     B     C\n",
       "1  Raj  27.0  Pune\n",
       "3  NaN   NaN   NaN\n",
       "5  NaN   NaN   NaN"
      ]
     },
     "execution_count": 7,
     "metadata": {},
     "output_type": "execute_result"
    }
   ],
   "source": [
    "temp=[i for i in range(1,6,2)]\n",
    "df=df.reindex(temp)\n",
    "df.head()\n"
   ]
  },
  {
   "cell_type": "markdown",
   "id": "a7b2698a-ecd9-43f1-bd3f-0824fa235cdd",
   "metadata": {},
   "source": [
    "Q3. You have a Pandas DataFrame df with a column named 'Values'. Write a Python function that\n",
    "iterates over the DataFrame and calculates the sum of the first three values in the 'Values' column. The\n",
    "function should print the sum to the console.\n",
    "For example, if the 'Values' column of df contains the values [10, 20, 30, 40, 50], your function should\n",
    "calculate and print the sum of the first three values, which is 60.\n",
    "\n"
   ]
  },
  {
   "cell_type": "code",
   "execution_count": 8,
   "id": "01c99623-f43b-44d7-a130-b1e9bd39c64d",
   "metadata": {},
   "outputs": [
    {
     "name": "stdout",
     "output_type": "stream",
     "text": [
      "25\n",
      "27\n",
      "30\n",
      "The sum of the first three values is 82\n"
     ]
    }
   ],
   "source": [
    "df=pd.DataFrame({'Name':['Pratik','Raj','Ram','Priya','Anshi'],\n",
    "                 'Values':[25,27,30,80,90]})\n",
    "sum=0\n",
    "for i, row in df.iloc[:3].iterrows():\n",
    "    print(row['Values'])\n",
    "    sum=sum+row['Values']\n",
    "    \n",
    "    \n",
    "print('The sum of the first three values is {0}'.format(sum))"
   ]
  },
  {
   "cell_type": "markdown",
   "id": "27ce08b1-5cbf-4377-853c-06812a479dd1",
   "metadata": {},
   "source": [
    "Q4. Given a Pandas DataFrame df with a column 'Text', write a Python function to create a new column\n",
    "'Word_Count' that contains the number of words in each row of the 'Text' column.\n"
   ]
  },
  {
   "cell_type": "code",
   "execution_count": 9,
   "id": "033162a2-6c4f-442a-ae83-5b2cb5b19a7d",
   "metadata": {},
   "outputs": [
    {
     "data": {
      "text/html": [
       "<div>\n",
       "<style scoped>\n",
       "    .dataframe tbody tr th:only-of-type {\n",
       "        vertical-align: middle;\n",
       "    }\n",
       "\n",
       "    .dataframe tbody tr th {\n",
       "        vertical-align: top;\n",
       "    }\n",
       "\n",
       "    .dataframe thead th {\n",
       "        text-align: right;\n",
       "    }\n",
       "</style>\n",
       "<table border=\"1\" class=\"dataframe\">\n",
       "  <thead>\n",
       "    <tr style=\"text-align: right;\">\n",
       "      <th></th>\n",
       "      <th>Name</th>\n",
       "      <th>Text</th>\n",
       "      <th>Word_Count</th>\n",
       "    </tr>\n",
       "  </thead>\n",
       "  <tbody>\n",
       "    <tr>\n",
       "      <th>0</th>\n",
       "      <td>Pratik</td>\n",
       "      <td>Pratik is student of MSCIT course. He did his ...</td>\n",
       "      <td>12</td>\n",
       "    </tr>\n",
       "    <tr>\n",
       "      <th>1</th>\n",
       "      <td>Raj</td>\n",
       "      <td>Raj did his Btech from VIT</td>\n",
       "      <td>6</td>\n",
       "    </tr>\n",
       "    <tr>\n",
       "      <th>2</th>\n",
       "      <td>Ram</td>\n",
       "      <td>Ram done his Bcom from Ruia Collge. His want t...</td>\n",
       "      <td>12</td>\n",
       "    </tr>\n",
       "  </tbody>\n",
       "</table>\n",
       "</div>"
      ],
      "text/plain": [
       "     Name                                               Text  Word_Count\n",
       "0  Pratik  Pratik is student of MSCIT course. He did his ...          12\n",
       "1     Raj                         Raj did his Btech from VIT           6\n",
       "2     Ram  Ram done his Bcom from Ruia Collge. His want t...          12"
      ]
     },
     "execution_count": 9,
     "metadata": {},
     "output_type": "execute_result"
    }
   ],
   "source": [
    "#'Data Science is fun.'.split(' ')\n",
    "student=pd.DataFrame({'Name':['Pratik','Raj','Ram'],\n",
    "                 'Text':['Pratik is student of MSCIT course. He did his masters in IT',\n",
    "                            'Raj did his Btech from VIT','Ram done his Bcom from Ruia Collge. His want to become CA']})\n",
    "student['Word_Count']=student.apply(lambda row:len(row['Text'].split(' ')),axis=1)\n",
    "student.head()"
   ]
  },
  {
   "cell_type": "markdown",
   "id": "5e2ca896-40f4-4570-86ec-91ef5a84ccad",
   "metadata": {},
   "source": [
    "Q5. How are DataFrame.size() and DataFrame.shape() different?\n"
   ]
  },
  {
   "cell_type": "code",
   "execution_count": 10,
   "id": "e8d9c9c5-be28-4355-b44b-d5e83b4329a9",
   "metadata": {},
   "outputs": [
    {
     "data": {
      "text/plain": [
       "9"
      ]
     },
     "execution_count": 10,
     "metadata": {},
     "output_type": "execute_result"
    }
   ],
   "source": [
    "#  DataFrame.size() will give you total number of elements in dataframe row * columns hence 3*3 Gives 9\n",
    "student.size\n"
   ]
  },
  {
   "cell_type": "code",
   "execution_count": 11,
   "id": "34bbe14d-051e-4d80-8f97-3f396fa7d6d7",
   "metadata": {},
   "outputs": [
    {
     "data": {
      "text/plain": [
       "(3, 3)"
      ]
     },
     "execution_count": 11,
     "metadata": {},
     "output_type": "execute_result"
    }
   ],
   "source": [
    "# DataFrame.shape() will give (rows,Columns) so that we can understant the noumber of rows and columns in givem dataframe\n",
    "student.shape"
   ]
  },
  {
   "cell_type": "markdown",
   "id": "e46baafb-c1d9-4f13-8332-ccd3cd5f273e",
   "metadata": {},
   "source": [
    "Q6. Which function of pandas do we use to read an excel file?<br>\n",
    "read_excel() fuction is used for excel file read<br>\n",
    "example<br>\n",
    "data=pd.read_excel('File_name.xlsx')e<br>\n",
    "data.head()"
   ]
  },
  {
   "cell_type": "markdown",
   "id": "3d169fd3-ecb9-4ba5-8b63-2ffa40e9a57d",
   "metadata": {},
   "source": [
    "Q7. You have a Pandas DataFrame df that contains a column named 'Email' that contains email\n",
    "addresses in the format 'username@domain.com'. Write a Python function that creates a new column\n",
    "'Username' in df that contains only the username part of each email address.\n",
    "The username is the part of the email address that appears before the '@' symbol. For example, if the\n",
    "email address is 'john.doe@example.com', the 'Username' column should contain 'john.doe'. Your\n",
    "function should extract the username from each email address and store it in the new 'Username'\n",
    "column.\n",
    "\n"
   ]
  },
  {
   "cell_type": "code",
   "execution_count": 12,
   "id": "4d4cc653-e3de-4899-8c8b-c29c8ecfb33a",
   "metadata": {},
   "outputs": [
    {
     "data": {
      "text/html": [
       "<div>\n",
       "<style scoped>\n",
       "    .dataframe tbody tr th:only-of-type {\n",
       "        vertical-align: middle;\n",
       "    }\n",
       "\n",
       "    .dataframe tbody tr th {\n",
       "        vertical-align: top;\n",
       "    }\n",
       "\n",
       "    .dataframe thead th {\n",
       "        text-align: right;\n",
       "    }\n",
       "</style>\n",
       "<table border=\"1\" class=\"dataframe\">\n",
       "  <thead>\n",
       "    <tr style=\"text-align: right;\">\n",
       "      <th></th>\n",
       "      <th>Email</th>\n",
       "      <th>Username</th>\n",
       "    </tr>\n",
       "  </thead>\n",
       "  <tbody>\n",
       "    <tr>\n",
       "      <th>0</th>\n",
       "      <td>Lisha@gmail.com</td>\n",
       "      <td>Lisha</td>\n",
       "    </tr>\n",
       "    <tr>\n",
       "      <th>1</th>\n",
       "      <td>Raj_sing@outlook.com</td>\n",
       "      <td>Raj_sing</td>\n",
       "    </tr>\n",
       "    <tr>\n",
       "      <th>2</th>\n",
       "      <td>Shivam_jha22@hotmail.com</td>\n",
       "      <td>Shivam_jha22</td>\n",
       "    </tr>\n",
       "  </tbody>\n",
       "</table>\n",
       "</div>"
      ],
      "text/plain": [
       "                      Email      Username\n",
       "0           Lisha@gmail.com         Lisha\n",
       "1      Raj_sing@outlook.com      Raj_sing\n",
       "2  Shivam_jha22@hotmail.com  Shivam_jha22"
      ]
     },
     "execution_count": 12,
     "metadata": {},
     "output_type": "execute_result"
    }
   ],
   "source": [
    "'pratik@gmail.com'.split('@')[0]\n",
    "\n",
    "\n",
    "df= pd.DataFrame({'Email':['Lisha@gmail.com','Raj_sing@outlook.com','Shivam_jha22@hotmail.com']})\n",
    "df['Username']=df.apply(lambda row:row['Email'].split('@')[0],axis=1)\n",
    "\n",
    "df.head()\n"
   ]
  },
  {
   "cell_type": "markdown",
   "id": "54739067-58e0-4bfd-97d6-fe6b9eb9a2d6",
   "metadata": {},
   "source": [
    "<pre>\n",
    "Q8. You have a Pandas DataFrame df with columns 'A', 'B', and 'C'. Write a Python function that selects\n",
    "all rows where the value in column 'A' is greater than 5 and the value in column 'B' is less than 10. The\n",
    "function should return a new DataFrame that contains only the selected rows.\n",
    "For example, if df contains the following values:\n",
    "  A B C\n",
    "0 3 5 1\n",
    "1 8 2 7\n",
    "2 6 9 4\n",
    "3 2 3 5\n",
    "4 9 1 2\n",
    "\n",
    "Your function should select the following rows: A B C\n",
    "1 8 2 7\n",
    "4 9 1 2\n",
    "The function should return a new DataFrame that contains only the selected rows.\n",
    "</pre>"
   ]
  },
  {
   "cell_type": "code",
   "execution_count": 13,
   "id": "84d05773-f13c-45a8-b0a5-22922a010bf0",
   "metadata": {},
   "outputs": [
    {
     "name": "stdout",
     "output_type": "stream",
     "text": [
      "   A  B  C\n",
      "0  3  5  1\n",
      "1  8  2  7\n",
      "2  6  9  4\n",
      "3  2  3  5\n",
      "4  9  1  2\n",
      "  \n",
      "   A  B  C\n",
      "1  8  2  7\n",
      "2  6  9  4\n",
      "4  9  1  2\n"
     ]
    }
   ],
   "source": [
    "data=pd.DataFrame({'A':[3,8,6,2,9],\n",
    "                   'B':[5,2,9,3,1],\n",
    "                   'C':[1,7,4,5,2]})\n",
    "\n",
    "def filter_df(df):\n",
    "    print(df)\n",
    "    \n",
    "    #for i in range(len(df)):\n",
    "    #    print(df['A'][i])\n",
    "    print('  ')\n",
    "    df=df[(df['A']>5) & (df['B']<10)]\n",
    "    print(df)\n",
    "            \n",
    "            \n",
    "filter_df(data)"
   ]
  },
  {
   "cell_type": "markdown",
   "id": "f4b8613e-0107-4365-9f94-898a9b6abfce",
   "metadata": {},
   "source": [
    "\n",
    "Q9. Given a Pandas DataFrame df with a column 'Values', write a Python function to calculate the mean,\n",
    "median, and standard deviation of the values in the 'Values' column.\n"
   ]
  },
  {
   "cell_type": "code",
   "execution_count": 14,
   "id": "724f9af6-e1b6-4389-a188-07d78b6574af",
   "metadata": {},
   "outputs": [
    {
     "name": "stdout",
     "output_type": "stream",
     "text": [
      "    Values\n",
      "0        5\n",
      "1        9\n",
      "2        8\n",
      "3        5\n",
      "4        7\n",
      "5        8\n",
      "6        1\n",
      "7        2\n",
      "8        3\n",
      "9        4\n",
      "10       5\n",
      "11       6\n",
      "12       7\n",
      "13       8\n",
      "14       9\n",
      "15       5\n",
      "16       3\n",
      "Mean of Values is 5.588235294117647\n",
      "Median of Values is 5.0\n",
      "Standard Deviation of Values is 2.4509901960588234\n"
     ]
    }
   ],
   "source": [
    "\n",
    "# importing the module\n",
    "import pandas as pd\n",
    " \n",
    "data={'Values':[5, 9, 8, 5, 7, 8, 1, 2, 3,\n",
    "                      4, 5, 6, 7, 8, 9, 5, 3]}\n",
    "\n",
    "s = pd.DataFrame(data)\n",
    "  \n",
    "# displaying the dataframe\n",
    "def stats_info(df):\n",
    "    print(df)\n",
    "    \n",
    "    print('Mean of Values is '+str(df.Values.mean()))\n",
    "    print('Median of Values is '+str(df.Values.median()))\n",
    "    print('Standard Deviation of Values is '+str(df.Values.std()))\n",
    "\n",
    "stats_info(s)\n",
    "    "
   ]
  },
  {
   "cell_type": "markdown",
   "id": "9e8d6a1a-4f4b-4800-8476-b0da77d364d7",
   "metadata": {},
   "source": [
    "Q10. Given a Pandas DataFrame df with a column 'Sales' and a column 'Date', write a Python function to\n",
    "create a new column 'MovingAverage' that contains the moving average of the sales for the past 7 days\n",
    "for each row in the DataFrame. The moving average should be calculated using a window of size 7 and\n",
    "should include the current day.\n"
   ]
  },
  {
   "cell_type": "code",
   "execution_count": 15,
   "id": "a4ef0158-f843-4059-92d1-80555e4cf4ea",
   "metadata": {},
   "outputs": [
    {
     "data": {
      "text/html": [
       "<div>\n",
       "<style scoped>\n",
       "    .dataframe tbody tr th:only-of-type {\n",
       "        vertical-align: middle;\n",
       "    }\n",
       "\n",
       "    .dataframe tbody tr th {\n",
       "        vertical-align: top;\n",
       "    }\n",
       "\n",
       "    .dataframe thead th {\n",
       "        text-align: right;\n",
       "    }\n",
       "</style>\n",
       "<table border=\"1\" class=\"dataframe\">\n",
       "  <thead>\n",
       "    <tr style=\"text-align: right;\">\n",
       "      <th></th>\n",
       "      <th>Sales</th>\n",
       "      <th>Date</th>\n",
       "      <th>MovingAverage</th>\n",
       "    </tr>\n",
       "  </thead>\n",
       "  <tbody>\n",
       "    <tr>\n",
       "      <th>0</th>\n",
       "      <td>10</td>\n",
       "      <td>2022-12-29</td>\n",
       "      <td>NaN</td>\n",
       "    </tr>\n",
       "    <tr>\n",
       "      <th>1</th>\n",
       "      <td>20</td>\n",
       "      <td>2022-12-30</td>\n",
       "      <td>NaN</td>\n",
       "    </tr>\n",
       "    <tr>\n",
       "      <th>2</th>\n",
       "      <td>30</td>\n",
       "      <td>2022-12-31</td>\n",
       "      <td>NaN</td>\n",
       "    </tr>\n",
       "    <tr>\n",
       "      <th>3</th>\n",
       "      <td>40</td>\n",
       "      <td>2023-01-01</td>\n",
       "      <td>NaN</td>\n",
       "    </tr>\n",
       "    <tr>\n",
       "      <th>4</th>\n",
       "      <td>50</td>\n",
       "      <td>2023-01-02</td>\n",
       "      <td>NaN</td>\n",
       "    </tr>\n",
       "    <tr>\n",
       "      <th>5</th>\n",
       "      <td>10</td>\n",
       "      <td>2023-01-03</td>\n",
       "      <td>NaN</td>\n",
       "    </tr>\n",
       "    <tr>\n",
       "      <th>6</th>\n",
       "      <td>20</td>\n",
       "      <td>2023-01-04</td>\n",
       "      <td>25.714286</td>\n",
       "    </tr>\n",
       "    <tr>\n",
       "      <th>7</th>\n",
       "      <td>30</td>\n",
       "      <td>2023-01-05</td>\n",
       "      <td>28.571429</td>\n",
       "    </tr>\n",
       "    <tr>\n",
       "      <th>8</th>\n",
       "      <td>40</td>\n",
       "      <td>2023-01-06</td>\n",
       "      <td>31.428571</td>\n",
       "    </tr>\n",
       "    <tr>\n",
       "      <th>9</th>\n",
       "      <td>50</td>\n",
       "      <td>2023-01-07</td>\n",
       "      <td>34.285714</td>\n",
       "    </tr>\n",
       "    <tr>\n",
       "      <th>10</th>\n",
       "      <td>10</td>\n",
       "      <td>2023-01-08</td>\n",
       "      <td>30.000000</td>\n",
       "    </tr>\n",
       "    <tr>\n",
       "      <th>11</th>\n",
       "      <td>20</td>\n",
       "      <td>2023-01-09</td>\n",
       "      <td>25.714286</td>\n",
       "    </tr>\n",
       "    <tr>\n",
       "      <th>12</th>\n",
       "      <td>30</td>\n",
       "      <td>2023-01-10</td>\n",
       "      <td>28.571429</td>\n",
       "    </tr>\n",
       "    <tr>\n",
       "      <th>13</th>\n",
       "      <td>40</td>\n",
       "      <td>2023-01-11</td>\n",
       "      <td>31.428571</td>\n",
       "    </tr>\n",
       "    <tr>\n",
       "      <th>14</th>\n",
       "      <td>50</td>\n",
       "      <td>2023-01-12</td>\n",
       "      <td>34.285714</td>\n",
       "    </tr>\n",
       "    <tr>\n",
       "      <th>15</th>\n",
       "      <td>10</td>\n",
       "      <td>2023-01-13</td>\n",
       "      <td>30.000000</td>\n",
       "    </tr>\n",
       "    <tr>\n",
       "      <th>16</th>\n",
       "      <td>20</td>\n",
       "      <td>2023-01-14</td>\n",
       "      <td>25.714286</td>\n",
       "    </tr>\n",
       "    <tr>\n",
       "      <th>17</th>\n",
       "      <td>30</td>\n",
       "      <td>2023-01-15</td>\n",
       "      <td>28.571429</td>\n",
       "    </tr>\n",
       "    <tr>\n",
       "      <th>18</th>\n",
       "      <td>40</td>\n",
       "      <td>2023-01-16</td>\n",
       "      <td>31.428571</td>\n",
       "    </tr>\n",
       "    <tr>\n",
       "      <th>19</th>\n",
       "      <td>50</td>\n",
       "      <td>2023-01-17</td>\n",
       "      <td>34.285714</td>\n",
       "    </tr>\n",
       "    <tr>\n",
       "      <th>20</th>\n",
       "      <td>10</td>\n",
       "      <td>2023-01-18</td>\n",
       "      <td>30.000000</td>\n",
       "    </tr>\n",
       "    <tr>\n",
       "      <th>21</th>\n",
       "      <td>20</td>\n",
       "      <td>2023-01-19</td>\n",
       "      <td>25.714286</td>\n",
       "    </tr>\n",
       "    <tr>\n",
       "      <th>22</th>\n",
       "      <td>30</td>\n",
       "      <td>2023-01-20</td>\n",
       "      <td>28.571429</td>\n",
       "    </tr>\n",
       "    <tr>\n",
       "      <th>23</th>\n",
       "      <td>40</td>\n",
       "      <td>2023-01-21</td>\n",
       "      <td>31.428571</td>\n",
       "    </tr>\n",
       "    <tr>\n",
       "      <th>24</th>\n",
       "      <td>50</td>\n",
       "      <td>2023-01-22</td>\n",
       "      <td>34.285714</td>\n",
       "    </tr>\n",
       "    <tr>\n",
       "      <th>25</th>\n",
       "      <td>10</td>\n",
       "      <td>2023-01-23</td>\n",
       "      <td>30.000000</td>\n",
       "    </tr>\n",
       "    <tr>\n",
       "      <th>26</th>\n",
       "      <td>20</td>\n",
       "      <td>2023-01-24</td>\n",
       "      <td>25.714286</td>\n",
       "    </tr>\n",
       "    <tr>\n",
       "      <th>27</th>\n",
       "      <td>30</td>\n",
       "      <td>2023-01-25</td>\n",
       "      <td>28.571429</td>\n",
       "    </tr>\n",
       "    <tr>\n",
       "      <th>28</th>\n",
       "      <td>40</td>\n",
       "      <td>2023-01-26</td>\n",
       "      <td>31.428571</td>\n",
       "    </tr>\n",
       "    <tr>\n",
       "      <th>29</th>\n",
       "      <td>50</td>\n",
       "      <td>2023-01-27</td>\n",
       "      <td>34.285714</td>\n",
       "    </tr>\n",
       "    <tr>\n",
       "      <th>30</th>\n",
       "      <td>22</td>\n",
       "      <td>2023-01-28</td>\n",
       "      <td>31.714286</td>\n",
       "    </tr>\n",
       "  </tbody>\n",
       "</table>\n",
       "</div>"
      ],
      "text/plain": [
       "    Sales       Date  MovingAverage\n",
       "0      10 2022-12-29            NaN\n",
       "1      20 2022-12-30            NaN\n",
       "2      30 2022-12-31            NaN\n",
       "3      40 2023-01-01            NaN\n",
       "4      50 2023-01-02            NaN\n",
       "5      10 2023-01-03            NaN\n",
       "6      20 2023-01-04      25.714286\n",
       "7      30 2023-01-05      28.571429\n",
       "8      40 2023-01-06      31.428571\n",
       "9      50 2023-01-07      34.285714\n",
       "10     10 2023-01-08      30.000000\n",
       "11     20 2023-01-09      25.714286\n",
       "12     30 2023-01-10      28.571429\n",
       "13     40 2023-01-11      31.428571\n",
       "14     50 2023-01-12      34.285714\n",
       "15     10 2023-01-13      30.000000\n",
       "16     20 2023-01-14      25.714286\n",
       "17     30 2023-01-15      28.571429\n",
       "18     40 2023-01-16      31.428571\n",
       "19     50 2023-01-17      34.285714\n",
       "20     10 2023-01-18      30.000000\n",
       "21     20 2023-01-19      25.714286\n",
       "22     30 2023-01-20      28.571429\n",
       "23     40 2023-01-21      31.428571\n",
       "24     50 2023-01-22      34.285714\n",
       "25     10 2023-01-23      30.000000\n",
       "26     20 2023-01-24      25.714286\n",
       "27     30 2023-01-25      28.571429\n",
       "28     40 2023-01-26      31.428571\n",
       "29     50 2023-01-27      34.285714\n",
       "30     22 2023-01-28      31.714286"
      ]
     },
     "execution_count": 15,
     "metadata": {},
     "output_type": "execute_result"
    }
   ],
   "source": [
    "df = pd.DataFrame({'Sales': [10, 20, 30, 40, 50,10, 20, 30, 40, 50,10, 20, 30, 40, 50,10, 20, 30, 40, 50,10, 20, 30, 40, 50,10, 20, 30, 40, 50,22],\n",
    "                   'Date': pd.date_range('2022-12-29', periods=31, freq='D')})\n",
    "\n",
    "\n",
    "df['MovingAverage']=df['Sales'].rolling(window=7).mean()\n",
    "df"
   ]
  },
  {
   "cell_type": "markdown",
   "id": "23b05872-7b37-4c3c-8e52-f5a5329e9439",
   "metadata": {},
   "source": [
    "<pre>\n",
    "Q11. You have a Pandas DataFrame df with a column 'Date'. Write a Python function that creates a new\n",
    "column 'Weekday' in the DataFrame. The 'Weekday' column should contain the weekday name (e.g.\n",
    "Monday, Tuesday) corresponding to each date in the 'Date' column.\n",
    "For example, if df contains the following values:\n",
    "Date\n",
    "0 2023-01-01\n",
    "1 2023-01-02\n",
    "2 2023-01-03\n",
    "3 2023-01-04\n",
    "4 2023-01-05\n",
    "Your function should create the following DataFrame:\n",
    "\n",
    "Date Weekday\n",
    "0 2023-01-01 Sunday\n",
    "1 2023-01-02 Monday\n",
    "2 2023-01-03 Tuesday\n",
    "3 2023-01-04 Wednesday\n",
    "4 2023-01-05 Thursday\n",
    "The function should return the modified DataFrame.\n",
    "\n",
    "\n",
    "</pre>\n",
    "\n"
   ]
  },
  {
   "cell_type": "code",
   "execution_count": 16,
   "id": "f281773f-3153-4324-a513-2d4621c2200f",
   "metadata": {},
   "outputs": [
    {
     "name": "stdout",
     "output_type": "stream",
     "text": [
      "        Date    Weekday\n",
      "0 2022-12-29  Wednesday\n",
      "1 2022-12-30   Thursday\n",
      "2 2022-12-31     Friday\n",
      "3 2023-01-01   Saturday\n",
      "4 2023-01-02     Sunday\n",
      "5 2023-01-03     Monday\n",
      "6 2023-01-04    Tuesday\n",
      "7 2023-01-05  Wednesday\n",
      "8 2023-01-06   Thursday\n",
      "9 2023-01-07     Friday\n"
     ]
    }
   ],
   "source": [
    "df = pd.DataFrame({'Date': pd.date_range('2022-12-29', periods=31, freq='D')})\n",
    "def weekdays_(df):\n",
    "    weekday_map={0:'Sunday',1:\"Monday\",2: \"Tuesday\",\n",
    "                  3: \"Wednesday\", 4:\"Thursday\",\n",
    "                   5:\"Friday\",6: \"Saturday\",}\n",
    "    df['Weekday']=df.apply(lambda row: weekday_map[row['Date'].weekday()],axis=1)\n",
    "    print(df.head(10))\n",
    "    \n",
    "weekdays_(df)"
   ]
  },
  {
   "cell_type": "markdown",
   "id": "e084be34-2a56-428e-97c6-eeecacb2bea8",
   "metadata": {},
   "source": [
    "Q12. Given a Pandas DataFrame df with a column 'Date' that contains timestamps, write a Python\n",
    "function to select all rows where the date is between '2023-01-01' and '2023-01-31'.\n"
   ]
  },
  {
   "cell_type": "code",
   "execution_count": 17,
   "id": "4db3008f-c87f-444e-ba83-b4a555eb458f",
   "metadata": {},
   "outputs": [
    {
     "name": "stdout",
     "output_type": "stream",
     "text": [
      "    Sales       Date\n",
      "3      40 2023-01-01\n",
      "4      50 2023-01-02\n",
      "5      10 2023-01-03\n",
      "6      20 2023-01-04\n",
      "7      30 2023-01-05\n",
      "8      40 2023-01-06\n",
      "9      50 2023-01-07\n",
      "10     10 2023-01-08\n",
      "11     20 2023-01-09\n",
      "12     30 2023-01-10\n",
      "13     40 2023-01-11\n",
      "14     50 2023-01-12\n",
      "15     10 2023-01-13\n",
      "16     20 2023-01-14\n",
      "17     30 2023-01-15\n",
      "18     40 2023-01-16\n",
      "19     50 2023-01-17\n",
      "20     10 2023-01-18\n",
      "21     20 2023-01-19\n",
      "22     30 2023-01-20\n",
      "23     40 2023-01-21\n",
      "24     50 2023-01-22\n",
      "25     10 2023-01-23\n",
      "26     20 2023-01-24\n",
      "27     30 2023-01-25\n",
      "28     40 2023-01-26\n",
      "29     50 2023-01-27\n",
      "30     22 2023-01-28\n"
     ]
    }
   ],
   "source": [
    "df = pd.DataFrame({'Sales': [10, 20, 30, 40, 50,10, 20, 30, 40, 50,10, 20, 30, 40, 50,10, 20, 30, 40, 50,10, 20, 30, 40, 50,10, 20, 30, 40, 50,22],\n",
    "                   'Date': pd.date_range('2022-12-29', periods=31, freq='D')})\n",
    "def date_range(df,start_date,end_date):\n",
    "    df_range=df[(df['Date'] >= start_date) & (df['Date'] <= end_date)]\n",
    "    \n",
    "    print(df_range)\n",
    "    \n",
    "date_range(df,'2023-01-01', '2023-01-31')"
   ]
  },
  {
   "cell_type": "markdown",
   "id": "7decee85-c10e-4bb3-9d38-95bbe6125ab0",
   "metadata": {},
   "source": [
    "Q13. To use the basic functions of pandas, what is the first and foremost necessary library that needs to\n",
    "be imported?<br>\n",
    "To use the basic functions of pandas, pandas is the first and foremost necessary library that needs to\n",
    "be imported"
   ]
  }
 ],
 "metadata": {
  "kernelspec": {
   "display_name": "Python 3 (ipykernel)",
   "language": "python",
   "name": "python3"
  },
  "language_info": {
   "codemirror_mode": {
    "name": "ipython",
    "version": 3
   },
   "file_extension": ".py",
   "mimetype": "text/x-python",
   "name": "python",
   "nbconvert_exporter": "python",
   "pygments_lexer": "ipython3",
   "version": "3.10.8"
  }
 },
 "nbformat": 4,
 "nbformat_minor": 5
}
