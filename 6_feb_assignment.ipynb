{
 "cells": [
  {
   "cell_type": "markdown",
   "id": "4ae22c60-6304-4772-9bdd-9a3130dac8fa",
   "metadata": {},
   "source": [
    "Q1. Create a function which will take a list as an argument and return the product of all the numbers\n",
    "after creating a flat list.\n",
    "Use the below-given list as an argument for your function.\n",
    "list1 = [1,2,3,4, [44,55,66, True], False, (34,56,78,89,34), {1,2,3,3,2,1}, {1:34, \"key2\": [55, 67, 78, 89], 4: (45,\n",
    "22, 61, 34)}, [56, 'data science'], 'Machine Learning']"
   ]
  },
  {
   "cell_type": "code",
   "execution_count": 3,
   "id": "dce4bcab-2a29-436d-9da4-faf05ce7e7c3",
   "metadata": {},
   "outputs": [
    {
     "name": "stdout",
     "output_type": "stream",
     "text": [
      "{1: 34, 'key2': [55, 67, 78, 89], 4: (45, 22, 61, 34)}\n",
      "[1, 2, 3, 4, 44, 55, 66, 34, 56, 78, 89, 34, 1, 2, 3, 1, 55, 67, 78, 89, 4, 45, 22, 61, 34, 56]\n",
      "multiplication is 121609171734914278789230624768000\n"
     ]
    }
   ],
   "source": [
    "list1 = [1,2,3,4, [44,55,66, True], False, (34,56,78,89,34), {1,2,3,3,2,1}, {1:34, \"key2\": [55, 67, 78, 89], 4: (45, 22, 61, 34)}, [56, 'data science'], 'Machine Learning']\n",
    "\n",
    "def flat_list(list1):\n",
    "    new_list=[]\n",
    "    for element in list1:\n",
    "        if type(element)==int:\n",
    "            \n",
    "            new_list.append(element)\n",
    "        elif type(element)==list:\n",
    "            for e in element:\n",
    "                if type(e)==int:\n",
    "                    new_list.append(e)\n",
    "                    \n",
    "        elif type(element)==dict:\n",
    "            print(element)\n",
    "            for key in element.keys():\n",
    "                \n",
    "                if type(key)==int:\n",
    "                    new_list.append(key)\n",
    "                if element[key]==int:\n",
    "                    new_list.append(element[key])\n",
    "                elif type(element[key])==list:\n",
    "                    \n",
    "                    temp_list=element[key]\n",
    "                    for e in temp_list:\n",
    "                        if type(e)==int:\n",
    "                            new_list.append(e)\n",
    "                elif type(element[key])==tuple:\n",
    "                    \n",
    "                    temp_tuple=element[key]\n",
    "                    for e in temp_tuple:\n",
    "                        if type(e)==int:\n",
    "                            new_list.append(e)\n",
    "                \n",
    "\n",
    "        elif type(element)==tuple:\n",
    "            for t in element:\n",
    "                new_list.append(t)\n",
    "                \n",
    "        elif type(element)==set:\n",
    "            for e in element:\n",
    "                if type(e)==int:\n",
    "                    new_list.append(e)\n",
    "                    \n",
    "    print(new_list)  \n",
    "    m=1\n",
    "    for number in new_list:\n",
    "        m=m*number\n",
    "    return m\n",
    "    \n",
    "ans=flat_list(list1)\n",
    "\n",
    "print('multiplication is '+str(ans))"
   ]
  },
  {
   "cell_type": "markdown",
   "id": "e7e8dd6c-79ac-4b7e-adc1-a77b06299a4c",
   "metadata": {},
   "source": [
    "Q2. Write a python program for encrypting a message sent to you by your friend. The logic of encryption\n",
    "should be such that, for a the output should be z. For b, the output should be y. For c, the output should\n",
    "be x respectively. Also, the whitespace should be replaced with a dollar sign. Keep the punctuation\n",
    "marks unchanged.\n",
    "Input Sentence: I want to become a Data Scientist.\n",
    "Encrypt the above input sentence using the program you just created.\n",
    "Note: Convert the given input sentence into lowercase before encrypting. The final output should be\n",
    "lowercase."
   ]
  },
  {
   "cell_type": "code",
   "execution_count": 2,
   "id": "a8e7504a-948e-44fa-9464-136b6dfb983a",
   "metadata": {},
   "outputs": [
    {
     "name": "stdout",
     "output_type": "stream",
     "text": [
      "Original sentence I want to become a Data Scientist.\n",
      "Decrypted string is r dzmg gl yvxlnv z wzgz hxrvmgrhg.\n"
     ]
    }
   ],
   "source": [
    "sen='I want to become a Data Scientist.'\n",
    "\n",
    "print('Original sentence '+ sen)\n",
    "def decrypt(sen):\n",
    "    sen_1=sen.lower()\n",
    "    final=''\n",
    "    for c in sen_1:\n",
    "        if c==' ':\n",
    "            final=final+' '\n",
    "        elif c=='.':\n",
    "            final=final+'.'\n",
    "        else:\n",
    "            c=chr(ord('z') -\n",
    "                     ord(c) + ord('a'))\n",
    "            final=final+c\n",
    "            \n",
    "    return final\n",
    "    \n",
    "print('Decrypted string is '+decrypt(sen))"
   ]
  }
 ],
 "metadata": {
  "kernelspec": {
   "display_name": "Python 3 (ipykernel)",
   "language": "python",
   "name": "python3"
  },
  "language_info": {
   "codemirror_mode": {
    "name": "ipython",
    "version": 3
   },
   "file_extension": ".py",
   "mimetype": "text/x-python",
   "name": "python",
   "nbconvert_exporter": "python",
   "pygments_lexer": "ipython3",
   "version": "3.10.8"
  }
 },
 "nbformat": 4,
 "nbformat_minor": 5
}
