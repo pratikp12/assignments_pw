{
 "cells": [
  {
   "cell_type": "markdown",
   "id": "ace49630-d59b-4844-94a1-688bc22c580f",
   "metadata": {},
   "source": [
    "Q1, Create a vehicle class with an init method having instance variables as name_of_vehicle, max_speed\n",
    "and average_of_vehicle.\n"
   ]
  },
  {
   "cell_type": "code",
   "execution_count": 1,
   "id": "9f42bc74-107c-4715-a3ab-8f8f0be2e05f",
   "metadata": {},
   "outputs": [],
   "source": [
    "class vehicle:\n",
    "    def __init__(self,name_of_vehicle, max_speed, average_of_vehicle):\n",
    "        self.name_of_vehicle=name_of_vehicle\n",
    "        self.max_speed=max_speed\n",
    "        self.average_of_vehicle=average_of_vehicle\n",
    "        \n",
    "        "
   ]
  },
  {
   "cell_type": "code",
   "execution_count": 2,
   "id": "2b689d06-d8a9-47d2-a1c2-2dfda501235f",
   "metadata": {},
   "outputs": [
    {
     "data": {
      "text/plain": [
       "'Toyota'"
      ]
     },
     "execution_count": 2,
     "metadata": {},
     "output_type": "execute_result"
    }
   ],
   "source": [
    "v1=vehicle('Toyota',30,20)\n",
    "v1.name_of_vehicle"
   ]
  },
  {
   "cell_type": "markdown",
   "id": "eedd7f29-ca0e-495a-a263-496a371e262b",
   "metadata": {},
   "source": [
    "Q2. Create a child class car from the vehicle class created in Que 1, which will inherit the vehicle class.\n",
    "Create a method named seating_capacity which takes capacity as an argument and returns the name of\n",
    "the vehicle and its seating capacity.\n"
   ]
  },
  {
   "cell_type": "code",
   "execution_count": 29,
   "id": "e448638f-9d6c-40c6-a9cf-858611b33e6d",
   "metadata": {},
   "outputs": [],
   "source": [
    "class car(vehicle):\n",
    "    def __init__(self,name_of_vehicle, max_speed, average_of_vehicle):\n",
    "        #self.name_of_vehicle=name_of_vehicle\n",
    "        #self.max_speed=max_speed\n",
    "        #self.average_of_vehicle=average_of_vehicle\n",
    "        super().__init__(name_of_vehicle, max_speed, average_of_vehicle)\n",
    "        self.capacity=0\n",
    "        \n",
    "    def seating_capacity(self,cap):\n",
    "        self.capacity=cap\n",
    "        return self.name_of_vehicle,self.capacity"
   ]
  },
  {
   "cell_type": "code",
   "execution_count": 30,
   "id": "e95ddce9-dc9e-47f0-be40-5d565f179b6d",
   "metadata": {},
   "outputs": [],
   "source": [
    "car1=car('Toyota',30,20)"
   ]
  },
  {
   "cell_type": "code",
   "execution_count": 31,
   "id": "1d12704b-31fb-4682-ad66-e2dab0b16a2a",
   "metadata": {},
   "outputs": [
    {
     "data": {
      "text/plain": [
       "'Toyota'"
      ]
     },
     "execution_count": 31,
     "metadata": {},
     "output_type": "execute_result"
    }
   ],
   "source": [
    "car1.name_of_vehicle"
   ]
  },
  {
   "cell_type": "code",
   "execution_count": 33,
   "id": "087744d3-277f-4ff0-89cc-3d73f8330fe7",
   "metadata": {},
   "outputs": [
    {
     "data": {
      "text/plain": [
       "('Toyota', 5)"
      ]
     },
     "execution_count": 33,
     "metadata": {},
     "output_type": "execute_result"
    }
   ],
   "source": [
    "car1.seating_capacity(5)"
   ]
  },
  {
   "cell_type": "markdown",
   "id": "54c827d7-2751-4994-9470-ac9cf9cbbc47",
   "metadata": {},
   "source": [
    "Q3. What is multiple inheritance? Write a python code to demonstrate multiple inheritance.<br>\n",
    "\n",
    "when one base class inherite properties of 2 or more classes it is called as multiple inheritance\n"
   ]
  },
  {
   "cell_type": "code",
   "execution_count": 34,
   "id": "a0694d4c-0093-40b8-8f78-2ffd9107ac9d",
   "metadata": {},
   "outputs": [],
   "source": [
    "class mammals:\n",
    "    def __init__(self,Nourish_child,body_cover):\n",
    "        self.Nourish_child=Nourish_child\n",
    "        self.body_cover=body_cover\n",
    "        \n",
    "class bird:\n",
    "    def __init__(self):\n",
    "        pass\n",
    "    \n",
    "    def lay_egg(self):\n",
    "        print('lay eggs')\n",
    "        \n",
    "class platypus(mammals,bird):\n",
    "    def __init__(self,Nourish_child,body_cover):\n",
    "        self.Nourish_child=Nourish_child\n",
    "        self.body_cover=body_cover"
   ]
  },
  {
   "cell_type": "code",
   "execution_count": 35,
   "id": "7b0feb34-aa3a-43e2-b735-cb265ad00de4",
   "metadata": {},
   "outputs": [
    {
     "name": "stdout",
     "output_type": "stream",
     "text": [
      "lay eggs\n"
     ]
    }
   ],
   "source": [
    "p1=platypus('Milk','fur')\n",
    "p1.lay_egg()"
   ]
  },
  {
   "cell_type": "markdown",
   "id": "300d3d06-1080-46c6-905d-ce47d0a85110",
   "metadata": {},
   "source": [
    "Q4. What are getter and setter in python? Create a class and create a getter and a setter method in this\n",
    "class.\n",
    "getter method is used to access encasulated variable which are hidden. Getter methoad will \n",
    "return value \n",
    "\n",
    "setter method is used to set value of encasulated variable.\n"
   ]
  },
  {
   "cell_type": "code",
   "execution_count": 4,
   "id": "2de36b0f-401a-481c-80d5-3f58a94c3c81",
   "metadata": {},
   "outputs": [],
   "source": [
    "class car:\n",
    "    def __init__(self, car_price, car_name):\n",
    "        self.__car_price = car_price\n",
    "        self.car_name =car_name\n",
    "\n",
    "    @property\n",
    "    def car_price_access(self):\n",
    "    \treturn self.__car_price \n",
    "           \n",
    "    @car_price_access.setter\n",
    "    def car_price_set(self,price):\n",
    "        if price <= 700000:\n",
    "            pass\n",
    "        else:\n",
    "            self.__car_price=price\n",
    "            \n",
    "    "
   ]
  },
  {
   "cell_type": "code",
   "execution_count": 5,
   "id": "54c2c20d-1e32-43e9-8711-46b492ac71a3",
   "metadata": {},
   "outputs": [],
   "source": [
    "KWID=car(700000,'Renault KWID')"
   ]
  },
  {
   "cell_type": "code",
   "execution_count": 7,
   "id": "0ff90538-c4bb-49ef-9932-ce0b123731f0",
   "metadata": {},
   "outputs": [
    {
     "data": {
      "text/plain": [
       "700000"
      ]
     },
     "execution_count": 7,
     "metadata": {},
     "output_type": "execute_result"
    }
   ],
   "source": [
    "KWID.car_price_access"
   ]
  },
  {
   "cell_type": "code",
   "execution_count": 8,
   "id": "5701c7e0-8191-46d2-b3cb-2c70d6f7bc44",
   "metadata": {},
   "outputs": [
    {
     "data": {
      "text/plain": [
       "800000"
      ]
     },
     "execution_count": 8,
     "metadata": {},
     "output_type": "execute_result"
    }
   ],
   "source": [
    "KWID.car_price_set=800000\n",
    "KWID.car_price_access"
   ]
  },
  {
   "cell_type": "markdown",
   "id": "5115cdd0-33db-4190-bb3c-94a4019aa951",
   "metadata": {},
   "source": [
    "In above example we are defining class car wwith attributes car price and car name <br>\n",
    "car_price_access is getter method which returns price of car<br>\n",
    "car_price_set is setter which can be used for seting price of car"
   ]
  },
  {
   "cell_type": "markdown",
   "id": "c84fb36b-4bcc-4f93-a588-d875e4b7cf50",
   "metadata": {},
   "source": [
    "Q5.What is method overriding in python? Write a python code to demonstrate method overriding.<br>\n",
    "\n",
    "Method overriding is special property of class objects where child class wil inherite some methods and make some changes based on their unique special behaviour.\n"
   ]
  },
  {
   "cell_type": "code",
   "execution_count": 9,
   "id": "fd25ea21-ce49-4e20-85f8-5117ef0f27a2",
   "metadata": {},
   "outputs": [
    {
     "name": "stdout",
     "output_type": "stream",
     "text": [
      "eat food\n",
      "Chicken,pork\n",
      "Chicken, Cat food \n"
     ]
    }
   ],
   "source": [
    "class Animal:\n",
    "    def food(self):\n",
    "        print(\"eat food\")\n",
    "\n",
    "class Dog(Animal):\n",
    "    def food(self):\n",
    "        print(\"Chicken,pork\")\n",
    "\n",
    "class Cat(Animal):\n",
    "    def food(self):\n",
    "        print(\"Chicken, Cat food \")\n",
    "\n",
    "# Creating instances of the classes\n",
    "animal = Animal()\n",
    "dog = Dog()\n",
    "cat = Cat()\n",
    "\n",
    "# Calling the sound() method on each object\n",
    "animal.food() # Output: Some animal sound\n",
    "dog.food()    # Output: Bark\n",
    "cat.food()    # Output: Meow"
   ]
  },
  {
   "cell_type": "code",
   "execution_count": null,
   "id": "3cae99e7-2c11-4216-b909-328f5e41f730",
   "metadata": {},
   "outputs": [],
   "source": []
  }
 ],
 "metadata": {
  "kernelspec": {
   "display_name": "Python 3 (ipykernel)",
   "language": "python",
   "name": "python3"
  },
  "language_info": {
   "codemirror_mode": {
    "name": "ipython",
    "version": 3
   },
   "file_extension": ".py",
   "mimetype": "text/x-python",
   "name": "python",
   "nbconvert_exporter": "python",
   "pygments_lexer": "ipython3",
   "version": "3.10.8"
  }
 },
 "nbformat": 4,
 "nbformat_minor": 5
}
