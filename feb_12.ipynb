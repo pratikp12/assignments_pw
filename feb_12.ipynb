{
 "cells": [
  {
   "cell_type": "markdown",
   "id": "e781cb9e-0cd6-4ffa-bd96-7f80fff97491",
   "metadata": {},
   "source": [
    "Q1. What is an Exception in python? Write the difference between Exceptions and syntax errors.<br>\n",
    "excpetion is runtime error which interrupts the flow of program.<br>\n",
    "exception arise beacuse of wrong input and runtime wrong step<br>\n",
    "while syntax error arise due to bad defination or wrong choice of words while defining variable and function. \n"
   ]
  },
  {
   "cell_type": "code",
   "execution_count": null,
   "id": "58c80cc2-6949-48a9-8889-579667a4e609",
   "metadata": {},
   "outputs": [],
   "source": []
  },
  {
   "cell_type": "markdown",
   "id": "1f1fb312-3aee-4b3e-b5ae-07801acb73dc",
   "metadata": {},
   "source": [
    "Q2. What happens when an exception is not handled? Explain with an example\n",
    "If we don't handle exception they will interuppt the flow of program.\n"
   ]
  },
  {
   "cell_type": "code",
   "execution_count": 2,
   "id": "ce929e3d-9437-4153-8fcf-1b247f80ff21",
   "metadata": {},
   "outputs": [
    {
     "ename": "ZeroDivisionError",
     "evalue": "division by zero",
     "output_type": "error",
     "traceback": [
      "\u001b[0;31m---------------------------------------------------------------------------\u001b[0m",
      "\u001b[0;31mZeroDivisionError\u001b[0m                         Traceback (most recent call last)",
      "Cell \u001b[0;32mIn[2], line 2\u001b[0m\n\u001b[1;32m      1\u001b[0m a\u001b[38;5;241m=\u001b[39m\u001b[38;5;241m10\u001b[39m\n\u001b[0;32m----> 2\u001b[0m \u001b[38;5;28mprint\u001b[39m(\u001b[43ma\u001b[49m\u001b[38;5;241;43m/\u001b[39;49m\u001b[38;5;241;43m0\u001b[39;49m)\n\u001b[1;32m      3\u001b[0m a\u001b[38;5;241m=\u001b[39ma\u001b[38;5;241m+\u001b[39m\u001b[38;5;241m19\u001b[39m\n",
      "\u001b[0;31mZeroDivisionError\u001b[0m: division by zero"
     ]
    }
   ],
   "source": [
    "a=10\n",
    "print(a/0)\n",
    "a=a+19"
   ]
  },
  {
   "cell_type": "markdown",
   "id": "42d85a1e-30f9-4ba6-9527-f2df6a828c38",
   "metadata": {},
   "source": [
    "in above example you can see if we don't handle exception then it will stop execution flow"
   ]
  },
  {
   "cell_type": "markdown",
   "id": "a8e5428a-152e-4cc3-a118-7bafde6c4325",
   "metadata": {},
   "source": [
    "Q3. Which Python statements are used to catch\n",
    "and handle exceptions? Explain with an example<br>\n",
    "try exception blocks are used for handle exception<br>\n",
    "In following example except block handle the key error "
   ]
  },
  {
   "cell_type": "code",
   "execution_count": 9,
   "id": "e2cae81b-6c84-41d6-b4c5-61de87358ac6",
   "metadata": {},
   "outputs": [
    {
     "name": "stdout",
     "output_type": "stream",
     "text": [
      "'key10'\n"
     ]
    }
   ],
   "source": [
    "try:\n",
    "    d= {1: [3,4, 5,6]}\n",
    "    d[\"key10\"]\n",
    "except KeyError as e:\n",
    "    print(e)\n"
   ]
  },
  {
   "cell_type": "markdown",
   "id": "830302a4-8ff0-4e98-9e7d-9543653fb74d",
   "metadata": {},
   "source": [
    "Q4. Explain with an exmple:#\n",
    "\n",
    "a.try and else<br>\n",
    "b.finally <br>\n",
    "c.raise<br>\n"
   ]
  },
  {
   "cell_type": "code",
   "execution_count": 10,
   "id": "2d35d226-4962-4028-aa8d-e26e709d5808",
   "metadata": {},
   "outputs": [
    {
     "name": "stdout",
     "output_type": "stream",
     "text": [
      "if try blocks not having error the else block is executed\n"
     ]
    }
   ],
   "source": [
    "try:\n",
    "    a=10\n",
    "    b=a/10\n",
    "except:\n",
    "    print('error')\n",
    "else:\n",
    "    print('if try blocks not having error the else block is executed')"
   ]
  },
  {
   "cell_type": "code",
   "execution_count": 12,
   "id": "334ba2f0-3c7d-4e23-b82e-4ebbd973104f",
   "metadata": {},
   "outputs": [
    {
     "name": "stdout",
     "output_type": "stream",
     "text": [
      "error\n"
     ]
    }
   ],
   "source": [
    "try:\n",
    "    a=10\n",
    "    b=a/0\n",
    "except:\n",
    "    print('error')\n",
    "else:\n",
    "    print('if try blocks not having error the else block is executed')"
   ]
  },
  {
   "cell_type": "code",
   "execution_count": 26,
   "id": "7d2c86de-d792-45a9-97cc-f599eba943bc",
   "metadata": {},
   "outputs": [
    {
     "name": "stdout",
     "output_type": "stream",
     "text": [
      "exception\n",
      "file closed\n"
     ]
    }
   ],
   "source": [
    "#2. finally\n",
    "try:\n",
    "    with open('employee.txt','r') as f:\n",
    "        f.write('rajesh')\n",
    "except:\n",
    "    print('exception')\n",
    "finally:\n",
    "    f.close()\n",
    "    print('file closed')"
   ]
  },
  {
   "cell_type": "code",
   "execution_count": 31,
   "id": "d4a22f4b-29b6-4039-8233-8cb59b5e9e46",
   "metadata": {},
   "outputs": [
    {
     "ename": "TypeError",
     "evalue": "Only integers are allowed",
     "output_type": "error",
     "traceback": [
      "\u001b[0;31m---------------------------------------------------------------------------\u001b[0m",
      "\u001b[0;31mTypeError\u001b[0m                                 Traceback (most recent call last)",
      "Cell \u001b[0;32mIn[31], line 6\u001b[0m\n\u001b[1;32m      3\u001b[0m x \u001b[38;5;241m=\u001b[39m \u001b[38;5;124m\"\u001b[39m\u001b[38;5;124mhello\u001b[39m\u001b[38;5;124m\"\u001b[39m\n\u001b[1;32m      5\u001b[0m \u001b[38;5;28;01mif\u001b[39;00m \u001b[38;5;129;01mnot\u001b[39;00m \u001b[38;5;28mtype\u001b[39m(x) \u001b[38;5;129;01mis\u001b[39;00m \u001b[38;5;28mint\u001b[39m:\n\u001b[0;32m----> 6\u001b[0m     \u001b[38;5;28;01mraise\u001b[39;00m \u001b[38;5;167;01mTypeError\u001b[39;00m(\u001b[38;5;124m\"\u001b[39m\u001b[38;5;124mOnly integers are allowed\u001b[39m\u001b[38;5;124m\"\u001b[39m)\n",
      "\u001b[0;31mTypeError\u001b[0m: Only integers are allowed"
     ]
    }
   ],
   "source": [
    "#c. raise\n",
    "\n",
    "x = \"hello\"\n",
    "\n",
    "if not type(x) is int:\n",
    "    raise TypeError(\"Only integers are allowed\")\n",
    "        "
   ]
  },
  {
   "cell_type": "code",
   "execution_count": 28,
   "id": "f168fbd0-bb41-46a8-b4a1-1721280e8935",
   "metadata": {},
   "outputs": [
    {
     "name": "stdin",
     "output_type": "stream",
     "text": [
      "enter your age 14\n"
     ]
    },
    {
     "name": "stdout",
     "output_type": "stream",
     "text": [
      "You should be atlease 18 years for voting\n"
     ]
    }
   ],
   "source": []
  },
  {
   "cell_type": "markdown",
   "id": "60eb1fe9-2df6-4d7c-952a-2698714f956f",
   "metadata": {},
   "source": [
    "Q5. What are Custom Exceptions in python? Why do we need Custom Exceptions? Explain with an example<br>\n",
    "Custome exception are used to handle special case and with help of logger we can capture errors.<br>\n",
    "in below example you can se we have defined custome exception"
   ]
  },
  {
   "cell_type": "code",
   "execution_count": 23,
   "id": "c9f76dec-b4d4-4fee-a868-8b1be3b08b87",
   "metadata": {},
   "outputs": [
    {
     "name": "stdout",
     "output_type": "stream",
     "text": [
      "there is some issue with my code [Errno 2] No such file or directory: 'student.txt'\n"
     ]
    }
   ],
   "source": [
    "import logging\n",
    "try:\n",
    "    with open('student.txt','r') as f:\n",
    "        f.write(\"this is my msg\")\n",
    "except Exception as e :\n",
    "    print(\"there is some issue with my code\", e)\n",
    "\n"
   ]
  },
  {
   "cell_type": "markdown",
   "id": "06a0b019-9d8f-42cb-9d9d-b2ea28131047",
   "metadata": {},
   "source": [
    "Q6. Create a custom exception class. Use this class to handle an exception."
   ]
  },
  {
   "cell_type": "code",
   "execution_count": 29,
   "id": "4abce760-456b-4f53-ab45-c71e6b20c69e",
   "metadata": {},
   "outputs": [],
   "source": [
    "#2. raise\n",
    "\n",
    "\n",
    "class validateage(Exception):\n",
    "    def init_(self, msg):\n",
    "        self.msg= msg\n",
    "        \n",
    "def validate_age(age):\n",
    "    if age <18:\n",
    "        raise validateage(\"You should be atlease 18 years for voting\")\n",
    "        \n",
    "    elif age> 200:\n",
    "        raise validateage(\"age too high\")\n",
    "    \n",
    "\n",
    "    \n",
    "        "
   ]
  },
  {
   "cell_type": "code",
   "execution_count": 30,
   "id": "1eb91911-67d4-4619-81b8-f87ed8dbfac5",
   "metadata": {},
   "outputs": [
    {
     "name": "stdin",
     "output_type": "stream",
     "text": [
      "enter your age 13\n"
     ]
    },
    {
     "name": "stdout",
     "output_type": "stream",
     "text": [
      "You should be atlease 18 years for voting\n"
     ]
    }
   ],
   "source": [
    "try:\n",
    "    age =int (input (\"enter your age\"))\n",
    "    validate_age(age)\n",
    "except validateage as e:\n",
    "    print(e)"
   ]
  },
  {
   "cell_type": "code",
   "execution_count": null,
   "id": "01f1a272-81a3-4bc7-ab0c-0e33fefef7f6",
   "metadata": {},
   "outputs": [],
   "source": []
  }
 ],
 "metadata": {
  "kernelspec": {
   "display_name": "Python 3 (ipykernel)",
   "language": "python",
   "name": "python3"
  },
  "language_info": {
   "codemirror_mode": {
    "name": "ipython",
    "version": 3
   },
   "file_extension": ".py",
   "mimetype": "text/x-python",
   "name": "python",
   "nbconvert_exporter": "python",
   "pygments_lexer": "ipython3",
   "version": "3.10.8"
  }
 },
 "nbformat": 4,
 "nbformat_minor": 5
}
