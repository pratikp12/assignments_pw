{
 "cells": [
  {
   "cell_type": "markdown",
   "id": "152d3f78-006f-44bf-be6c-35a85af9099f",
   "metadata": {},
   "source": [
    "<pre>\n",
    "Q1. What is the Probability density function?\n",
    "\n",
    "Probability density function (PDF) is a statistical expression that defines a probability distribution (the likelihood of an outcome) for a discrete random variable (e.g., a stock or ETF) as opposed to a continuous random variable. The difference between a discrete random variable is that you can identify an exact value of the variable.\n",
    "\n",
    "The normal distribution is a common example of a PDF, forming the well-known bell curve shape.\n",
    "\n",
    "In finance, traders and investors use PDFs to understand how price returns are distributed in order to evaluate their risk and expected return profile.\n",
    "</pre>\n"
   ]
  },
  {
   "cell_type": "markdown",
   "id": "e2b16376-410e-4482-8407-02f84d411c10",
   "metadata": {},
   "source": [
    "<pre>\n",
    "Q2. What are the types of Probability distribution?\n",
    "\n",
    "There are many types of probability distributions, but some of the most commonly used distributions include:\n",
    "\n",
    "Bernoulli Distribution: A distribution that describes the probability of success or failure in a single trial, where success has a probability of p and failure has a probability of 1-p.\n",
    "\n",
    "Binomial Distribution: A distribution that describes the probability of getting k successes in n independent Bernoulli trials, where each trial has a probability of success of p.\n",
    "\n",
    "Poisson Distribution: A distribution that describes the probability of a certain number of events occurring in a fixed time or space interval, given the average rate at which such events occur.\n",
    "\n",
    "Normal Distribution: A continuous probability distribution that is symmetric and bell-shaped, and is often used to model random variables that have a large number of small, independent factors that influence them.\n",
    "</pre>\n"
   ]
  },
  {
   "cell_type": "markdown",
   "id": "ab539f6b-f7ec-4b47-9d86-77072176d37a",
   "metadata": {},
   "source": [
    "<pre>\n",
    "Q3. Write a Python function to calculate the probability density function of a normal distribution with\n",
    "given mean and standard deviation at a given point.\n",
    "\n",
    "\n",
    "Here's an example Python function that calculates the probability density function of a normal distribution with given mean and standard deviation at a given point:\n",
    "\n",
    "</pre>\n"
   ]
  },
  {
   "cell_type": "code",
   "execution_count": 1,
   "id": "457a421d-8d5f-49b8-b974-6369b6e3f8ff",
   "metadata": {},
   "outputs": [],
   "source": [
    "import math\n",
    "\n",
    "def normal_pdf(x, mean, std_dev):\n",
    "    \"\"\"\n",
    "    Calculates the probability density function of a normal distribution at a given point x,\n",
    "    with a specified mean and standard deviation.\n",
    "\n",
    "    Arguments:\n",
    "    x -- the point at which to calculate the pdf\n",
    "    mean -- the mean of the normal distribution\n",
    "    std_dev -- the standard deviation of the normal distribution\n",
    "\n",
    "    Returns:\n",
    "    The pdf of the normal distribution at the specified point x.\n",
    "    \"\"\"\n",
    "    pdf = (1 / (std_dev * math.sqrt(2 * math.pi))) * math.exp(-((x - mean) ** 2) / (2 * std_dev ** 2))\n",
    "    return pdf\n"
   ]
  },
  {
   "cell_type": "code",
   "execution_count": 2,
   "id": "278c3188-1a6c-4246-bea8-3a65998ddb7f",
   "metadata": {},
   "outputs": [
    {
     "data": {
      "text/plain": [
       "0.12098536225957168"
      ]
     },
     "execution_count": 2,
     "metadata": {},
     "output_type": "execute_result"
    }
   ],
   "source": [
    "normal_pdf(12, 10, 2)"
   ]
  },
  {
   "cell_type": "markdown",
   "id": "6e8e7710-4939-4747-b47b-7a0d6bcc6fac",
   "metadata": {},
   "source": [
    "<pre>\n",
    "Q4. What are the properties of Binomial distribution? Give two examples of events where binomial\n",
    "distribution can be applied.\n",
    "\n",
    "properties of Binomial distribution as follow\n",
    "\n",
    "1. Binomial distribution is applicable when the trials are independent and each trial has just two outcomes success and failure.\n",
    "It is applied in coin tossing experiments, sampling inspection plan, genetic experiments and so on.\n",
    "\n",
    "2. Binomial distribution is known as bi-parametric distribution as it is characterized by two parameters n and p.\n",
    "This means that if the values of n and p are known, then the distribution is known completely.\n",
    "\n",
    "3. The mean of the binomial distribution is given by \n",
    "\n",
    "μ = np\n",
    "\n",
    "4. The Varinace of the binomial distribution is given by \n",
    "\n",
    "V(x)=npq\n",
    "\n",
    "\n",
    "Evnets where binomial\n",
    "distribution can be applied.\n",
    "It is applied in coin tossing experiments, sampling inspection plan, genetic experiments and so on.\n",
    "\n",
    "</pre>\n"
   ]
  },
  {
   "cell_type": "markdown",
   "id": "20a2683d-22c2-47c2-b481-4eb52cc9f335",
   "metadata": {},
   "source": [
    "<pre>\n",
    "Q5. Generate a random sample of size 1000 from a binomial distribution with probability of success 0.4\n",
    "and plot a histogram of the results using matplotlib.\n",
    "</pre>\n"
   ]
  },
  {
   "cell_type": "code",
   "execution_count": 3,
   "id": "f60e4407-b91f-4dcf-b2d7-4d0faddca516",
   "metadata": {},
   "outputs": [
    {
     "data": {
      "image/png": "[encoded data removed]",
      "text/plain": [
       "<Figure size 640x480 with 1 Axes>"
      ]
     },
     "metadata": {},
     "output_type": "display_data"
    }
   ],
   "source": [
    "import numpy as np\n",
    "import matplotlib.pyplot as plt\n",
    "\n",
    "# Generate random sample from binomial distribution\n",
    "n = 1000  # sample size\n",
    "p = 0.4  # probability of success\n",
    "sample = np.random.binomial(n, p, size=n)\n",
    "\n",
    "# Plot histogram of results\n",
    "plt.hist(sample, bins=25)\n",
    "plt.xlabel('Number of successes')\n",
    "plt.ylabel('Frequency')\n",
    "plt.title('Histogram of Binomial Distribution (n=1000, p=0.4)')\n",
    "plt.show()\n"
   ]
  },
  {
   "cell_type": "markdown",
   "id": "0025092b-fd65-4929-8e8b-1d925faa02d1",
   "metadata": {},
   "source": [
    "<pre>\n",
    "Q6. Write a Python function to calculate the cumulative distribution function of a Poisson distribution\n",
    "with given mean at a given point.\n",
    "</pre>\n"
   ]
  },
  {
   "cell_type": "code",
   "execution_count": 5,
   "id": "e3f3f370-b065-4b0e-809a-80af942d73b3",
   "metadata": {},
   "outputs": [
    {
     "data": {
      "text/plain": [
       "0.2381033055535443"
      ]
     },
     "execution_count": 5,
     "metadata": {},
     "output_type": "execute_result"
    }
   ],
   "source": [
    "import math\n",
    "\n",
    "def poisson_cdf(x, mean):\n",
    "    \"\"\"\n",
    "    Calculates the cumulative distribution function of a Poisson distribution at a given point x,\n",
    "    with a specified mean.\n",
    "\n",
    "    Arguments:\n",
    "    x -- the point at which to calculate the cdf\n",
    "    mean -- the mean of the Poisson distribution\n",
    "\n",
    "    Returns:\n",
    "    The cdf of the Poisson distribution at the specified point x.\n",
    "    \"\"\"\n",
    "    cdf = 0\n",
    "    for i in range(x+1):\n",
    "        cdf += math.exp(-mean) * mean**i / math.factorial(i)\n",
    "    return cdf\n",
    "\n",
    "poisson_cdf(2, 4)"
   ]
  },
  {
   "cell_type": "markdown",
   "id": "59f45b79-6579-43dd-ab69-cd96a8216ec2",
   "metadata": {},
   "source": [
    "<pre>\n",
    "Q7. How Binomial distribution different from Poisson distribution?\n",
    "</pre>\n",
    "\n",
    "<table id=\"tablepress-389\" class=\"tablepress tablepress-id-389\">\n",
    "<thead>\n",
    "<tr class=\"row-1 odd\">\n",
    "\t<th class=\"column-1\">Basis for Comparison</th><th class=\"column-2\">Binomial Distribution</th><th class=\"column-3\">Poisson Distribution</th>\n",
    "</tr>\n",
    "</thead>\n",
    "<tbody class=\"row-hover\">\n",
    "<tr class=\"row-2 even\">\n",
    "\t<td class=\"column-1\">Meaning</td><td class=\"column-2\">Binomial distribution is one in which the probability of repeated number of trials are studied.</td><td class=\"column-3\">Poisson Distribution gives the count of independent events occur randomly with a given period of time.</td>\n",
    "</tr>\n",
    "<tr class=\"row-3 odd\">\n",
    "\t<td class=\"column-1\">Nature</td><td class=\"column-2\">Biparametric</td><td class=\"column-3\">Uniparametric</td>\n",
    "</tr>\n",
    "<tr class=\"row-4 even\">\n",
    "\t<td class=\"column-1\">Number of trials</td><td class=\"column-2\">Fixed</td><td class=\"column-3\">Infinite</td>\n",
    "</tr>\n",
    "<tr class=\"row-5 odd\">\n",
    "\t<td class=\"column-1\">Success</td><td class=\"column-2\">Constant probability</td><td class=\"column-3\">Infinitesimal chance of success</td>\n",
    "</tr>\n",
    "<tr class=\"row-6 even\">\n",
    "\t<td class=\"column-1\">Outcomes</td><td class=\"column-2\">Only two possible outcomes, i.e. success or failure.</td><td class=\"column-3\">Unlimited number of possible outcomes.</td>\n",
    "</tr>\n",
    "<tr class=\"row-7 odd\">\n",
    "\t<td class=\"column-1\">Mean and Variance</td><td class=\"column-2\">Mean &gt; Variance</td><td class=\"column-3\">Mean = Variance</td>\n",
    "</tr>\n",
    "<tr class=\"row-8 even\">\n",
    "\t<td class=\"column-1\">Example</td><td class=\"column-2\">Coin tossing experiment.</td><td class=\"column-3\">Printing mistakes/page of a large book.</td>\n",
    "</tr>\n",
    "</tbody>\n",
    "</table>"
   ]
  },
  {
   "cell_type": "markdown",
   "id": "a34b8d96-543c-442b-b4a0-c0fd785289a3",
   "metadata": {},
   "source": [
    "<pre>\n",
    "Q8. Generate a random sample of size 1000 from a Poisson distribution with mean 5 and calculate the\n",
    "sample mean and variance.\n",
    "</pre>\n"
   ]
  },
  {
   "cell_type": "code",
   "execution_count": 7,
   "id": "424e6994-89d4-42bb-a054-12d4182c1ab3",
   "metadata": {},
   "outputs": [
    {
     "name": "stdout",
     "output_type": "stream",
     "text": [
      "Sample mean:  5.032\n",
      "Sample variance:  5.028975999999999\n"
     ]
    }
   ],
   "source": [
    "import numpy as np\n",
    "import matplotlib.pyplot as plt\n",
    "\n",
    "# Generate random sample from binomial distribution\n",
    "n = 1000  # sample size\n",
    "mean = 5  # probability of success\n",
    "sample = np.random.poisson(mean,n)\n",
    "\n",
    "sample_mean = np.mean(sample)\n",
    "sample_var = np.var(sample)\n",
    "\n",
    "print(\"Sample mean: \", sample_mean)\n",
    "print(\"Sample variance: \", sample_var)"
   ]
  },
  {
   "cell_type": "markdown",
   "id": "a3e95e79-88af-474d-a89e-9123b9d909a1",
   "metadata": {},
   "source": [
    "<pre>\n",
    "Q9. How mean and variance are related in Binomial distribution and Poisson distribution?\n",
    "\n",
    "In both the binomial and Poisson distributions, the mean and variance are related to the same parameter, which represents the rate of occurrence of an event.\n",
    "\n",
    "In the binomial distribution, the mean is equal to the product of the number of trials (n) and the probability of success in each trial (p), i.e., mean = n * p. The variance is equal to the product of the number of trials (n), the probability of success in each trial (p), and the probability of failure in each trial (1-p), i.e., variance = n * p * (1-p).\n",
    "\n",
    "In the Poisson distribution, the mean and variance are both equal to the rate parameter, denoted by λ.\n",
    "\n",
    "Mathematically, this can be expressed as:\n",
    "\n",
    "For binomial distribution:\n",
    "mean = n * p\n",
    "variance = n * p * (1-p)\n",
    "\n",
    "For Poisson distribution:\n",
    "mean = variance = λ\n",
    "\n",
    "So, in both distributions, as the rate parameter (p or λ) increases, the mean and variance also increase proportionally. In the case of the binomial distribution, the variance also depends on the number of trials (n) and the probability of success in each trial (p), but in the Poisson distribution, the variance is solely determined by the rate parameter (λ).\n",
    "</pre>\n"
   ]
  },
  {
   "cell_type": "markdown",
   "id": "ca2b627c-9088-4bf7-9a67-663b2393cb60",
   "metadata": {},
   "source": [
    "<pre>\n",
    "Q10. In normal distribution with respect to mean position, where does the least frequent data appear?\n",
    "\n",
    "\n",
    "In a normal distribution, the least frequent data appear in the tails of the distribution, which are the regions farthest away from the mean. Specifically, the tails of a normal distribution contain the data points that are more than two standard deviations away from the mean. This is because the normal distribution is a bell-shaped curve that is symmetric around the mean, and the probability density decreases rapidly as we move away from the mean in either direction.\n",
    "\n",
    "For example, in a normal distribution with mean = 0 and standard deviation = 1, the least frequent data would appear in the regions less than -2 or greater than +2. This is because the area under the curve beyond two standard deviations from the mean is only about 2.3%, which means that only about 2.3% of the data fall in those regions.\n",
    "\n",
    "</pre>"
   ]
  }
 ],
 "metadata": {
  "kernelspec": {
   "display_name": "Python 3 (ipykernel)",
   "language": "python",
   "name": "python3"
  },
  "language_info": {
   "codemirror_mode": {
    "name": "ipython",
    "version": 3
   },
   "file_extension": ".py",
   "mimetype": "text/x-python",
   "name": "python",
   "nbconvert_exporter": "python",
   "pygments_lexer": "ipython3",
   "version": "3.10.8"
  }
 },
 "nbformat": 4,
 "nbformat_minor": 5
}
