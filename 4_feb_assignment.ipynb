{
 "cells": [
  {
   "cell_type": "markdown",
   "id": "07dff428-8d20-4be9-8faf-dd786819100e",
   "metadata": {},
   "source": [
    "1. Create a python program to sort te give list of tuples based on integer value using a lambda function"
   ]
  },
  {
   "cell_type": "code",
   "execution_count": 2,
   "id": "4a5bcf82-c4b7-4333-b59a-421389f6826c",
   "metadata": {},
   "outputs": [],
   "source": [
    "from functools import reduce"
   ]
  },
  {
   "cell_type": "code",
   "execution_count": 5,
   "id": "1c8a635e-b4e7-4187-a0d6-b0c34ec7bd23",
   "metadata": {},
   "outputs": [],
   "source": [
    "t=[('Sachin Tendulkar',34357),('Ricky Pointing',27483),('Jack Kallis',25534),('Virat Kohli',24936)]"
   ]
  },
  {
   "cell_type": "code",
   "execution_count": 6,
   "id": "32dc983d-c8c8-4623-a381-66ccc2bf025d",
   "metadata": {},
   "outputs": [
    {
     "data": {
      "text/plain": [
       "[('Virat Kohli', 24936),\n",
       " ('Jack Kallis', 25534),\n",
       " ('Ricky Pointing', 27483),\n",
       " ('Sachin Tendulkar', 34357)]"
      ]
     },
     "execution_count": 6,
     "metadata": {},
     "output_type": "execute_result"
    }
   ],
   "source": [
    "t.sort(key=lambda x:x[1])\n",
    "t"
   ]
  },
  {
   "cell_type": "markdown",
   "id": "083f6c66-c5b5-4b46-948e-cc18dc004e9b",
   "metadata": {},
   "source": [
    "2.Write a python program to find the squares of all the numbers in the given list of integers using lambda and map functions."
   ]
  },
  {
   "cell_type": "code",
   "execution_count": 7,
   "id": "038d5a00-7b51-4e5f-af3e-b4a619d3e8e0",
   "metadata": {},
   "outputs": [],
   "source": [
    "def square_check(n):\n",
    "    l=[i**2 for i in range(1,n+1)]\n",
    "    if n in l:\n",
    "        return 'yes'\n",
    "    else:\n",
    "        return  'no'"
   ]
  },
  {
   "cell_type": "code",
   "execution_count": 8,
   "id": "c9fcad5f-abb6-49aa-96d0-76fc53c3119d",
   "metadata": {},
   "outputs": [
    {
     "data": {
      "text/plain": [
       "'yes'"
      ]
     },
     "execution_count": 8,
     "metadata": {},
     "output_type": "execute_result"
    }
   ],
   "source": [
    "square_check(4)"
   ]
  },
  {
   "cell_type": "code",
   "execution_count": 9,
   "id": "7a0ca41c-9b66-43e2-9a57-55cde7579094",
   "metadata": {},
   "outputs": [
    {
     "data": {
      "text/plain": [
       "[1, 2, 3, 4, 5, 6, 7, 8, 9, 10]"
      ]
     },
     "execution_count": 9,
     "metadata": {},
     "output_type": "execute_result"
    }
   ],
   "source": [
    "list1=[i for i in range(1,11)]\n",
    "list1"
   ]
  },
  {
   "cell_type": "code",
   "execution_count": 10,
   "id": "a86f58ab-505a-487e-8e56-a1ec8f92f0c6",
   "metadata": {},
   "outputs": [
    {
     "data": {
      "text/plain": [
       "[1, 4, 9]"
      ]
     },
     "execution_count": 10,
     "metadata": {},
     "output_type": "execute_result"
    }
   ],
   "source": [
    "list(map(lambda x:x,filter(lambda x: square_check(x)=='yes' ,list1)))"
   ]
  },
  {
   "cell_type": "markdown",
   "id": "4d68cc66-b805-4e2d-806e-5cc2666e9fbe",
   "metadata": {},
   "source": [
    "3.  Write a python program to convert the given list of integers into a tuple of strings. usse map and lambda functiond"
   ]
  },
  {
   "cell_type": "code",
   "execution_count": 11,
   "id": "f01b428e-5c7c-44e4-8c9f-0df6a3849d7a",
   "metadata": {},
   "outputs": [
    {
     "data": {
      "text/plain": [
       "('1', '2', '3', '4', '5', '6', '7', '8', '9', '10')"
      ]
     },
     "execution_count": 11,
     "metadata": {},
     "output_type": "execute_result"
    }
   ],
   "source": [
    "tuple(map(lambda x: str(x),list1))"
   ]
  },
  {
   "cell_type": "markdown",
   "id": "9777f1f4-c795-4eb5-9536-cdac0641388e",
   "metadata": {},
   "source": [
    "4. Write a python program using reduce function to compute the product of a list containing numers 1 to 25."
   ]
  },
  {
   "cell_type": "code",
   "execution_count": 13,
   "id": "a1f51c88-735e-4474-bc62-6b46fe876e22",
   "metadata": {},
   "outputs": [
    {
     "data": {
      "text/plain": [
       "15511210043330985984000000"
      ]
     },
     "execution_count": 13,
     "metadata": {},
     "output_type": "execute_result"
    }
   ],
   "source": [
    "l2=[i for i  in range(1,26)]\n",
    "\n",
    "reduce(lambda x,y :x*y,l2)"
   ]
  },
  {
   "cell_type": "markdown",
   "id": "cb263ade-adca-41e3-86ee-944d3fa5e9ea",
   "metadata": {},
   "source": [
    "5.Write a python program to filter the numbers ina given list that are divisible by 2 and 3 using the filter function.\n",
    "[2,3,6,9,27,60,90,120,55,46]"
   ]
  },
  {
   "cell_type": "code",
   "execution_count": 14,
   "id": "d65bdb00-309f-4e8b-9dcd-e5dd604f5efd",
   "metadata": {},
   "outputs": [
    {
     "data": {
      "text/plain": [
       "[6, 60, 90, 120]"
      ]
     },
     "execution_count": 14,
     "metadata": {},
     "output_type": "execute_result"
    }
   ],
   "source": [
    "l3=[2,3,6,9,27,60,90,120,55,46]\n",
    "\n",
    "list(filter(lambda x:x%2==0 and x%3==0,l3))"
   ]
  },
  {
   "cell_type": "markdown",
   "id": "304ac0e5-5cb8-48da-8c05-4d1868719a40",
   "metadata": {},
   "source": [
    "6. "
   ]
  },
  {
   "cell_type": "code",
   "execution_count": 16,
   "id": "a0623190-a899-4ac2-9e7e-e2e1519e11e3",
   "metadata": {},
   "outputs": [],
   "source": [
    "list_word=['python','aba','radar','level']"
   ]
  },
  {
   "cell_type": "code",
   "execution_count": 17,
   "id": "69ac2b3f-384f-4658-b4ce-807b3e1cf00e",
   "metadata": {},
   "outputs": [
    {
     "data": {
      "text/plain": [
       "['aba', 'radar', 'level']"
      ]
     },
     "execution_count": 17,
     "metadata": {},
     "output_type": "execute_result"
    }
   ],
   "source": [
    "list(filter(lambda x:x[::-1]==x,list_word))"
   ]
  },
  {
   "cell_type": "code",
   "execution_count": null,
   "id": "85d239be-7b99-40b2-981d-839174dd55fa",
   "metadata": {},
   "outputs": [],
   "source": []
  }
 ],
 "metadata": {
  "kernelspec": {
   "display_name": "Python 3 (ipykernel)",
   "language": "python",
   "name": "python3"
  },
  "language_info": {
   "codemirror_mode": {
    "name": "ipython",
    "version": 3
   },
   "file_extension": ".py",
   "mimetype": "text/x-python",
   "name": "python",
   "nbconvert_exporter": "python",
   "pygments_lexer": "ipython3",
   "version": "3.10.8"
  }
 },
 "nbformat": 4,
 "nbformat_minor": 5
}
